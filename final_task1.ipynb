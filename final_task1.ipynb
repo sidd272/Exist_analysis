{
 "cells": [
  {
   "cell_type": "code",
   "execution_count": 1,
   "metadata": {},
   "outputs": [],
   "source": [
    "import pandas as pd"
   ]
  },
  {
   "cell_type": "code",
   "execution_count": 2,
   "metadata": {},
   "outputs": [],
   "source": [
    "#import training data for binary classification\n",
    "\n",
    "#YES\n",
    "\n",
    "train_yes = pd.read_json('training/EXIST2023_training.json')\n",
    "train_yes=train_yes.transpose()\n",
    "train_yes=train_yes.loc[train_yes['lang'].apply(lambda x:x=='en')]\n",
    "train_yes=train_yes.loc[train_yes['labels_task1'].apply(lambda x:x.count('YES')>3)]\n",
    "train_yes['label1']='YES'\n",
    "\n",
    "#NO\n",
    "\n",
    "train_no = pd.read_json('training/EXIST2023_training.json')\n",
    "train_no=train_no.transpose()\n",
    "train_no=train_no.loc[train_no['lang'].apply(lambda x:x=='en')]\n",
    "train_no=train_no.loc[train_no['labels_task1'].apply(lambda x:x.count('NO')>3)]\n",
    "train_no['label1']='NO'\n",
    "\n",
    "val_yes = pd.read_json('dev/EXIST2023_dev.json')\n",
    "val_yes=val_yes.transpose()\n",
    "val_yes=val_yes.loc[val_yes['lang'].apply(lambda x:x=='en')]\n",
    "val_yes=val_yes.loc[val_yes['labels_task1'].apply(lambda x:x.count('YES')>3)]\n",
    "val_yes['label1']='YES'\n",
    "\n",
    "#NO\n",
    "val_no = pd.read_json('dev/EXIST2023_dev.json')\n",
    "val_no=val_no.transpose()\n",
    "val_no=val_no.loc[val_no['lang'].apply(lambda x:x=='en')]\n",
    "val_no=val_no.loc[val_no['labels_task1'].apply(lambda x:x.count('NO')>3)]\n",
    "val_no['label1']='NO'\n"
   ]
  },
  {
   "cell_type": "code",
   "execution_count": 3,
   "metadata": {},
   "outputs": [
    {
     "data": {
      "text/html": [
       "<div>\n",
       "<style scoped>\n",
       "    .dataframe tbody tr th:only-of-type {\n",
       "        vertical-align: middle;\n",
       "    }\n",
       "\n",
       "    .dataframe tbody tr th {\n",
       "        vertical-align: top;\n",
       "    }\n",
       "\n",
       "    .dataframe thead th {\n",
       "        text-align: right;\n",
       "    }\n",
       "</style>\n",
       "<table border=\"1\" class=\"dataframe\">\n",
       "  <thead>\n",
       "    <tr style=\"text-align: right;\">\n",
       "      <th></th>\n",
       "      <th>id_EXIST</th>\n",
       "      <th>lang</th>\n",
       "      <th>tweet</th>\n",
       "      <th>number_annotators</th>\n",
       "      <th>annotators</th>\n",
       "      <th>gender_annotators</th>\n",
       "      <th>age_annotators</th>\n",
       "      <th>labels_task1</th>\n",
       "      <th>labels_task2</th>\n",
       "      <th>labels_task3</th>\n",
       "      <th>split</th>\n",
       "      <th>label1</th>\n",
       "    </tr>\n",
       "  </thead>\n",
       "  <tbody>\n",
       "    <tr>\n",
       "      <th>0</th>\n",
       "      <td>200002</td>\n",
       "      <td>en</td>\n",
       "      <td>Writing a uni essay in my local pub with a cof...</td>\n",
       "      <td>6</td>\n",
       "      <td>[Annotator_391, Annotator_392, Annotator_393, ...</td>\n",
       "      <td>[F, F, M, M, M, F]</td>\n",
       "      <td>[18-22, 23-45, 18-22, 23-45, 46+, 46+]</td>\n",
       "      <td>[YES, YES, YES, NO, YES, YES]</td>\n",
       "      <td>[REPORTED, DIRECT, REPORTED, -, REPORTED, REPO...</td>\n",
       "      <td>[[STEREOTYPING-DOMINANCE, OBJECTIFICATION, MIS...</td>\n",
       "      <td>TRAIN_EN</td>\n",
       "      <td>YES</td>\n",
       "    </tr>\n",
       "    <tr>\n",
       "      <th>1</th>\n",
       "      <td>200003</td>\n",
       "      <td>en</td>\n",
       "      <td>@UniversalORL it is 2021 not 1921. I dont appr...</td>\n",
       "      <td>6</td>\n",
       "      <td>[Annotator_397, Annotator_398, Annotator_399, ...</td>\n",
       "      <td>[F, F, M, M, M, F]</td>\n",
       "      <td>[18-22, 23-45, 18-22, 23-45, 46+, 46+]</td>\n",
       "      <td>[YES, YES, NO, YES, NO, YES]</td>\n",
       "      <td>[REPORTED, REPORTED, -, REPORTED, -, JUDGEMENTAL]</td>\n",
       "      <td>[[OBJECTIFICATION, SEXUAL-VIOLENCE], [STEREOTY...</td>\n",
       "      <td>TRAIN_EN</td>\n",
       "      <td>YES</td>\n",
       "    </tr>\n",
       "    <tr>\n",
       "      <th>2</th>\n",
       "      <td>200006</td>\n",
       "      <td>en</td>\n",
       "      <td>According to a customer I have plenty of time ...</td>\n",
       "      <td>6</td>\n",
       "      <td>[Annotator_409, Annotator_410, Annotator_411, ...</td>\n",
       "      <td>[F, F, M, M, M, F]</td>\n",
       "      <td>[18-22, 23-45, 18-22, 23-45, 46+, 46+]</td>\n",
       "      <td>[YES, YES, YES, YES, YES, YES]</td>\n",
       "      <td>[REPORTED, REPORTED, REPORTED, REPORTED, REPOR...</td>\n",
       "      <td>[[STEREOTYPING-DOMINANCE, OBJECTIFICATION], [S...</td>\n",
       "      <td>TRAIN_EN</td>\n",
       "      <td>YES</td>\n",
       "    </tr>\n",
       "    <tr>\n",
       "      <th>3</th>\n",
       "      <td>200007</td>\n",
       "      <td>en</td>\n",
       "      <td>So only 'blokes' drink beer? Sorry, but if you...</td>\n",
       "      <td>6</td>\n",
       "      <td>[Annotator_415, Annotator_416, Annotator_417, ...</td>\n",
       "      <td>[F, F, M, M, M, F]</td>\n",
       "      <td>[18-22, 23-45, 18-22, 23-45, 46+, 46+]</td>\n",
       "      <td>[YES, YES, YES, YES, YES, YES]</td>\n",
       "      <td>[JUDGEMENTAL, REPORTED, REPORTED, DIRECT, DIRE...</td>\n",
       "      <td>[[STEREOTYPING-DOMINANCE], [STEREOTYPING-DOMIN...</td>\n",
       "      <td>TRAIN_EN</td>\n",
       "      <td>YES</td>\n",
       "    </tr>\n",
       "    <tr>\n",
       "      <th>4</th>\n",
       "      <td>200011</td>\n",
       "      <td>en</td>\n",
       "      <td>#EverydaySexism means women usually end up in ...</td>\n",
       "      <td>6</td>\n",
       "      <td>[Annotator_437, Annotator_438, Annotator_439, ...</td>\n",
       "      <td>[F, F, M, M, M, F]</td>\n",
       "      <td>[18-22, 23-45, 18-22, 23-45, 46+, 46+]</td>\n",
       "      <td>[YES, YES, YES, YES, YES, YES]</td>\n",
       "      <td>[REPORTED, JUDGEMENTAL, JUDGEMENTAL, JUDGEMENT...</td>\n",
       "      <td>[[IDEOLOGICAL-INEQUALITY, STEREOTYPING-DOMINAN...</td>\n",
       "      <td>TRAIN_EN</td>\n",
       "      <td>YES</td>\n",
       "    </tr>\n",
       "    <tr>\n",
       "      <th>...</th>\n",
       "      <td>...</td>\n",
       "      <td>...</td>\n",
       "      <td>...</td>\n",
       "      <td>...</td>\n",
       "      <td>...</td>\n",
       "      <td>...</td>\n",
       "      <td>...</td>\n",
       "      <td>...</td>\n",
       "      <td>...</td>\n",
       "      <td>...</td>\n",
       "      <td>...</td>\n",
       "      <td>...</td>\n",
       "    </tr>\n",
       "    <tr>\n",
       "      <th>3309</th>\n",
       "      <td>400474</td>\n",
       "      <td>en</td>\n",
       "      <td>#cryptosterone 👈All-new!Twice as many #men inv...</td>\n",
       "      <td>6</td>\n",
       "      <td>[Annotator_770, Annotator_771, Annotator_772, ...</td>\n",
       "      <td>[F, F, F, M, M, M]</td>\n",
       "      <td>[18-22, 23-45, 46+, 18-22, 23-45, 46+]</td>\n",
       "      <td>[NO, NO, NO, YES, NO, NO]</td>\n",
       "      <td>[-, -, -, DIRECT, -, -]</td>\n",
       "      <td>[[-], [-], [-], [IDEOLOGICAL-INEQUALITY, STERE...</td>\n",
       "      <td>DEV_EN</td>\n",
       "      <td>NO</td>\n",
       "    </tr>\n",
       "    <tr>\n",
       "      <th>3310</th>\n",
       "      <td>400476</td>\n",
       "      <td>en</td>\n",
       "      <td>@ScubaMySteve If you ask Cenk as a hypothetica...</td>\n",
       "      <td>6</td>\n",
       "      <td>[Annotator_805, Annotator_426, Annotator_806, ...</td>\n",
       "      <td>[F, F, F, M, M, M]</td>\n",
       "      <td>[18-22, 23-45, 46+, 18-22, 23-45, 46+]</td>\n",
       "      <td>[NO, YES, NO, NO, NO, NO]</td>\n",
       "      <td>[-, JUDGEMENTAL, -, -, -, -]</td>\n",
       "      <td>[[-], [IDEOLOGICAL-INEQUALITY, MISOGYNY-NON-SE...</td>\n",
       "      <td>DEV_EN</td>\n",
       "      <td>NO</td>\n",
       "    </tr>\n",
       "    <tr>\n",
       "      <th>3311</th>\n",
       "      <td>400477</td>\n",
       "      <td>en</td>\n",
       "      <td>@snowflowergomi @minseulsoo @chimsmaze How wil...</td>\n",
       "      <td>6</td>\n",
       "      <td>[Annotator_795, Annotator_796, Annotator_797, ...</td>\n",
       "      <td>[F, F, F, M, M, M]</td>\n",
       "      <td>[18-22, 23-45, 46+, 18-22, 23-45, 46+]</td>\n",
       "      <td>[NO, NO, NO, NO, NO, YES]</td>\n",
       "      <td>[-, -, -, -, -, REPORTED]</td>\n",
       "      <td>[[-], [-], [-], [-], [-], [STEREOTYPING-DOMINA...</td>\n",
       "      <td>DEV_EN</td>\n",
       "      <td>NO</td>\n",
       "    </tr>\n",
       "    <tr>\n",
       "      <th>3312</th>\n",
       "      <td>400481</td>\n",
       "      <td>en</td>\n",
       "      <td>Uh, they're allowed to? calling this out makes...</td>\n",
       "      <td>6</td>\n",
       "      <td>[Annotator_805, Annotator_426, Annotator_806, ...</td>\n",
       "      <td>[F, F, F, M, M, M]</td>\n",
       "      <td>[18-22, 23-45, 46+, 18-22, 23-45, 46+]</td>\n",
       "      <td>[NO, NO, YES, NO, YES, NO]</td>\n",
       "      <td>[-, -, JUDGEMENTAL, -, DIRECT, -]</td>\n",
       "      <td>[[-], [-], [MISOGYNY-NON-SEXUAL-VIOLENCE], [-]...</td>\n",
       "      <td>DEV_EN</td>\n",
       "      <td>NO</td>\n",
       "    </tr>\n",
       "    <tr>\n",
       "      <th>3313</th>\n",
       "      <td>400483</td>\n",
       "      <td>en</td>\n",
       "      <td>@JetCelestial @polgara28951124 @CharlotteEmmaU...</td>\n",
       "      <td>6</td>\n",
       "      <td>[Annotator_801, Annotator_182, Annotator_802, ...</td>\n",
       "      <td>[F, F, F, M, M, M]</td>\n",
       "      <td>[18-22, 23-45, 46+, 18-22, 23-45, 46+]</td>\n",
       "      <td>[YES, NO, NO, YES, NO, NO]</td>\n",
       "      <td>[DIRECT, -, -, JUDGEMENTAL, -, -]</td>\n",
       "      <td>[[IDEOLOGICAL-INEQUALITY, STEREOTYPING-DOMINAN...</td>\n",
       "      <td>DEV_EN</td>\n",
       "      <td>NO</td>\n",
       "    </tr>\n",
       "  </tbody>\n",
       "</table>\n",
       "<p>3314 rows × 12 columns</p>\n",
       "</div>"
      ],
      "text/plain": [
       "     id_EXIST lang                                              tweet  \\\n",
       "0      200002   en  Writing a uni essay in my local pub with a cof...   \n",
       "1      200003   en  @UniversalORL it is 2021 not 1921. I dont appr...   \n",
       "2      200006   en  According to a customer I have plenty of time ...   \n",
       "3      200007   en  So only 'blokes' drink beer? Sorry, but if you...   \n",
       "4      200011   en  #EverydaySexism means women usually end up in ...   \n",
       "...       ...  ...                                                ...   \n",
       "3309   400474   en  #cryptosterone 👈All-new!Twice as many #men inv...   \n",
       "3310   400476   en  @ScubaMySteve If you ask Cenk as a hypothetica...   \n",
       "3311   400477   en  @snowflowergomi @minseulsoo @chimsmaze How wil...   \n",
       "3312   400481   en  Uh, they're allowed to? calling this out makes...   \n",
       "3313   400483   en  @JetCelestial @polgara28951124 @CharlotteEmmaU...   \n",
       "\n",
       "     number_annotators                                         annotators  \\\n",
       "0                    6  [Annotator_391, Annotator_392, Annotator_393, ...   \n",
       "1                    6  [Annotator_397, Annotator_398, Annotator_399, ...   \n",
       "2                    6  [Annotator_409, Annotator_410, Annotator_411, ...   \n",
       "3                    6  [Annotator_415, Annotator_416, Annotator_417, ...   \n",
       "4                    6  [Annotator_437, Annotator_438, Annotator_439, ...   \n",
       "...                ...                                                ...   \n",
       "3309                 6  [Annotator_770, Annotator_771, Annotator_772, ...   \n",
       "3310                 6  [Annotator_805, Annotator_426, Annotator_806, ...   \n",
       "3311                 6  [Annotator_795, Annotator_796, Annotator_797, ...   \n",
       "3312                 6  [Annotator_805, Annotator_426, Annotator_806, ...   \n",
       "3313                 6  [Annotator_801, Annotator_182, Annotator_802, ...   \n",
       "\n",
       "       gender_annotators                          age_annotators  \\\n",
       "0     [F, F, M, M, M, F]  [18-22, 23-45, 18-22, 23-45, 46+, 46+]   \n",
       "1     [F, F, M, M, M, F]  [18-22, 23-45, 18-22, 23-45, 46+, 46+]   \n",
       "2     [F, F, M, M, M, F]  [18-22, 23-45, 18-22, 23-45, 46+, 46+]   \n",
       "3     [F, F, M, M, M, F]  [18-22, 23-45, 18-22, 23-45, 46+, 46+]   \n",
       "4     [F, F, M, M, M, F]  [18-22, 23-45, 18-22, 23-45, 46+, 46+]   \n",
       "...                  ...                                     ...   \n",
       "3309  [F, F, F, M, M, M]  [18-22, 23-45, 46+, 18-22, 23-45, 46+]   \n",
       "3310  [F, F, F, M, M, M]  [18-22, 23-45, 46+, 18-22, 23-45, 46+]   \n",
       "3311  [F, F, F, M, M, M]  [18-22, 23-45, 46+, 18-22, 23-45, 46+]   \n",
       "3312  [F, F, F, M, M, M]  [18-22, 23-45, 46+, 18-22, 23-45, 46+]   \n",
       "3313  [F, F, F, M, M, M]  [18-22, 23-45, 46+, 18-22, 23-45, 46+]   \n",
       "\n",
       "                        labels_task1  \\\n",
       "0      [YES, YES, YES, NO, YES, YES]   \n",
       "1       [YES, YES, NO, YES, NO, YES]   \n",
       "2     [YES, YES, YES, YES, YES, YES]   \n",
       "3     [YES, YES, YES, YES, YES, YES]   \n",
       "4     [YES, YES, YES, YES, YES, YES]   \n",
       "...                              ...   \n",
       "3309       [NO, NO, NO, YES, NO, NO]   \n",
       "3310       [NO, YES, NO, NO, NO, NO]   \n",
       "3311       [NO, NO, NO, NO, NO, YES]   \n",
       "3312      [NO, NO, YES, NO, YES, NO]   \n",
       "3313      [YES, NO, NO, YES, NO, NO]   \n",
       "\n",
       "                                           labels_task2  \\\n",
       "0     [REPORTED, DIRECT, REPORTED, -, REPORTED, REPO...   \n",
       "1     [REPORTED, REPORTED, -, REPORTED, -, JUDGEMENTAL]   \n",
       "2     [REPORTED, REPORTED, REPORTED, REPORTED, REPOR...   \n",
       "3     [JUDGEMENTAL, REPORTED, REPORTED, DIRECT, DIRE...   \n",
       "4     [REPORTED, JUDGEMENTAL, JUDGEMENTAL, JUDGEMENT...   \n",
       "...                                                 ...   \n",
       "3309                            [-, -, -, DIRECT, -, -]   \n",
       "3310                       [-, JUDGEMENTAL, -, -, -, -]   \n",
       "3311                          [-, -, -, -, -, REPORTED]   \n",
       "3312                  [-, -, JUDGEMENTAL, -, DIRECT, -]   \n",
       "3313                  [DIRECT, -, -, JUDGEMENTAL, -, -]   \n",
       "\n",
       "                                           labels_task3     split label1  \n",
       "0     [[STEREOTYPING-DOMINANCE, OBJECTIFICATION, MIS...  TRAIN_EN    YES  \n",
       "1     [[OBJECTIFICATION, SEXUAL-VIOLENCE], [STEREOTY...  TRAIN_EN    YES  \n",
       "2     [[STEREOTYPING-DOMINANCE, OBJECTIFICATION], [S...  TRAIN_EN    YES  \n",
       "3     [[STEREOTYPING-DOMINANCE], [STEREOTYPING-DOMIN...  TRAIN_EN    YES  \n",
       "4     [[IDEOLOGICAL-INEQUALITY, STEREOTYPING-DOMINAN...  TRAIN_EN    YES  \n",
       "...                                                 ...       ...    ...  \n",
       "3309  [[-], [-], [-], [IDEOLOGICAL-INEQUALITY, STERE...    DEV_EN     NO  \n",
       "3310  [[-], [IDEOLOGICAL-INEQUALITY, MISOGYNY-NON-SE...    DEV_EN     NO  \n",
       "3311  [[-], [-], [-], [-], [-], [STEREOTYPING-DOMINA...    DEV_EN     NO  \n",
       "3312  [[-], [-], [MISOGYNY-NON-SEXUAL-VIOLENCE], [-]...    DEV_EN     NO  \n",
       "3313  [[IDEOLOGICAL-INEQUALITY, STEREOTYPING-DOMINAN...    DEV_EN     NO  \n",
       "\n",
       "[3314 rows x 12 columns]"
      ]
     },
     "execution_count": 3,
     "metadata": {},
     "output_type": "execute_result"
    }
   ],
   "source": [
    "frames = [train_yes, train_no,val_yes,val_no]\n",
    "train = pd.concat(frames)\n",
    "train.reset_index(drop=True)"
   ]
  },
  {
   "cell_type": "code",
   "execution_count": 4,
   "metadata": {},
   "outputs": [
    {
     "data": {
      "text/html": [
       "<div>\n",
       "<style scoped>\n",
       "    .dataframe tbody tr th:only-of-type {\n",
       "        vertical-align: middle;\n",
       "    }\n",
       "\n",
       "    .dataframe tbody tr th {\n",
       "        vertical-align: top;\n",
       "    }\n",
       "\n",
       "    .dataframe thead th {\n",
       "        text-align: right;\n",
       "    }\n",
       "</style>\n",
       "<table border=\"1\" class=\"dataframe\">\n",
       "  <thead>\n",
       "    <tr style=\"text-align: right;\">\n",
       "      <th></th>\n",
       "      <th>tweet</th>\n",
       "      <th>label</th>\n",
       "    </tr>\n",
       "  </thead>\n",
       "  <tbody>\n",
       "    <tr>\n",
       "      <th>0</th>\n",
       "      <td>Writing a uni essay in my local pub with a cof...</td>\n",
       "      <td>YES</td>\n",
       "    </tr>\n",
       "    <tr>\n",
       "      <th>1</th>\n",
       "      <td>@UniversalORL it is 2021 not 1921. I dont appr...</td>\n",
       "      <td>YES</td>\n",
       "    </tr>\n",
       "    <tr>\n",
       "      <th>2</th>\n",
       "      <td>According to a customer I have plenty of time ...</td>\n",
       "      <td>YES</td>\n",
       "    </tr>\n",
       "    <tr>\n",
       "      <th>3</th>\n",
       "      <td>So only 'blokes' drink beer? Sorry, but if you...</td>\n",
       "      <td>YES</td>\n",
       "    </tr>\n",
       "    <tr>\n",
       "      <th>4</th>\n",
       "      <td>#EverydaySexism means women usually end up in ...</td>\n",
       "      <td>YES</td>\n",
       "    </tr>\n",
       "    <tr>\n",
       "      <th>...</th>\n",
       "      <td>...</td>\n",
       "      <td>...</td>\n",
       "    </tr>\n",
       "    <tr>\n",
       "      <th>3309</th>\n",
       "      <td>#cryptosterone 👈All-new!Twice as many #men inv...</td>\n",
       "      <td>NO</td>\n",
       "    </tr>\n",
       "    <tr>\n",
       "      <th>3310</th>\n",
       "      <td>@ScubaMySteve If you ask Cenk as a hypothetica...</td>\n",
       "      <td>NO</td>\n",
       "    </tr>\n",
       "    <tr>\n",
       "      <th>3311</th>\n",
       "      <td>@snowflowergomi @minseulsoo @chimsmaze How wil...</td>\n",
       "      <td>NO</td>\n",
       "    </tr>\n",
       "    <tr>\n",
       "      <th>3312</th>\n",
       "      <td>Uh, they're allowed to? calling this out makes...</td>\n",
       "      <td>NO</td>\n",
       "    </tr>\n",
       "    <tr>\n",
       "      <th>3313</th>\n",
       "      <td>@JetCelestial @polgara28951124 @CharlotteEmmaU...</td>\n",
       "      <td>NO</td>\n",
       "    </tr>\n",
       "  </tbody>\n",
       "</table>\n",
       "<p>3314 rows × 2 columns</p>\n",
       "</div>"
      ],
      "text/plain": [
       "                                                  tweet label\n",
       "0     Writing a uni essay in my local pub with a cof...   YES\n",
       "1     @UniversalORL it is 2021 not 1921. I dont appr...   YES\n",
       "2     According to a customer I have plenty of time ...   YES\n",
       "3     So only 'blokes' drink beer? Sorry, but if you...   YES\n",
       "4     #EverydaySexism means women usually end up in ...   YES\n",
       "...                                                 ...   ...\n",
       "3309  #cryptosterone 👈All-new!Twice as many #men inv...    NO\n",
       "3310  @ScubaMySteve If you ask Cenk as a hypothetica...    NO\n",
       "3311  @snowflowergomi @minseulsoo @chimsmaze How wil...    NO\n",
       "3312  Uh, they're allowed to? calling this out makes...    NO\n",
       "3313  @JetCelestial @polgara28951124 @CharlotteEmmaU...    NO\n",
       "\n",
       "[3314 rows x 2 columns]"
      ]
     },
     "execution_count": 4,
     "metadata": {},
     "output_type": "execute_result"
    }
   ],
   "source": [
    "train_data = pd.DataFrame()\n",
    "train_data['tweet'] = train['tweet']\n",
    "train_data['label'] = train['label1']\n",
    "train_data.reset_index(inplace=True, drop = True)\n",
    "train_data"
   ]
  },
  {
   "cell_type": "code",
   "execution_count": 5,
   "metadata": {},
   "outputs": [
    {
     "data": {
      "text/html": [
       "<div>\n",
       "<style scoped>\n",
       "    .dataframe tbody tr th:only-of-type {\n",
       "        vertical-align: middle;\n",
       "    }\n",
       "\n",
       "    .dataframe tbody tr th {\n",
       "        vertical-align: top;\n",
       "    }\n",
       "\n",
       "    .dataframe thead th {\n",
       "        text-align: right;\n",
       "    }\n",
       "</style>\n",
       "<table border=\"1\" class=\"dataframe\">\n",
       "  <thead>\n",
       "    <tr style=\"text-align: right;\">\n",
       "      <th></th>\n",
       "      <th>id_EXIST</th>\n",
       "      <th>lang</th>\n",
       "      <th>tweet</th>\n",
       "      <th>split</th>\n",
       "    </tr>\n",
       "  </thead>\n",
       "  <tbody>\n",
       "    <tr>\n",
       "      <th>600001</th>\n",
       "      <td>600001</td>\n",
       "      <td>en</td>\n",
       "      <td>@BrianRoemmele @profgalloway This is a BS, man...</td>\n",
       "      <td>TEST_EN</td>\n",
       "    </tr>\n",
       "    <tr>\n",
       "      <th>600002</th>\n",
       "      <td>600002</td>\n",
       "      <td>en</td>\n",
       "      <td>@Cathy_TwoHalves @EverydaySexism That's why wo...</td>\n",
       "      <td>TEST_EN</td>\n",
       "    </tr>\n",
       "    <tr>\n",
       "      <th>600003</th>\n",
       "      <td>600003</td>\n",
       "      <td>en</td>\n",
       "      <td>@betweenstardust Please be our voice.@CNN @cnn...</td>\n",
       "      <td>TEST_EN</td>\n",
       "    </tr>\n",
       "    <tr>\n",
       "      <th>600004</th>\n",
       "      <td>600004</td>\n",
       "      <td>en</td>\n",
       "      <td>@JonPincince @kmulvane @EverydaySexism, even a...</td>\n",
       "      <td>TEST_EN</td>\n",
       "    </tr>\n",
       "    <tr>\n",
       "      <th>600005</th>\n",
       "      <td>600005</td>\n",
       "      <td>en</td>\n",
       "      <td>Seriously @JohnLewisRetail?  girls are picture...</td>\n",
       "      <td>TEST_EN</td>\n",
       "    </tr>\n",
       "    <tr>\n",
       "      <th>...</th>\n",
       "      <td>...</td>\n",
       "      <td>...</td>\n",
       "      <td>...</td>\n",
       "      <td>...</td>\n",
       "    </tr>\n",
       "    <tr>\n",
       "      <th>600974</th>\n",
       "      <td>600974</td>\n",
       "      <td>en</td>\n",
       "      <td>@AllyMae99 This straight up sounds like “you l...</td>\n",
       "      <td>TEST_EN</td>\n",
       "    </tr>\n",
       "    <tr>\n",
       "      <th>600975</th>\n",
       "      <td>600975</td>\n",
       "      <td>en</td>\n",
       "      <td>Nathaniel is trying to help me with a new fake...</td>\n",
       "      <td>TEST_EN</td>\n",
       "    </tr>\n",
       "    <tr>\n",
       "      <th>600976</th>\n",
       "      <td>600976</td>\n",
       "      <td>en</td>\n",
       "      <td>walkin back from the gym &amp;amp; an older lady s...</td>\n",
       "      <td>TEST_EN</td>\n",
       "    </tr>\n",
       "    <tr>\n",
       "      <th>600977</th>\n",
       "      <td>600977</td>\n",
       "      <td>en</td>\n",
       "      <td>You look like a whore of Babylon bc that’s the...</td>\n",
       "      <td>TEST_EN</td>\n",
       "    </tr>\n",
       "    <tr>\n",
       "      <th>600978</th>\n",
       "      <td>600978</td>\n",
       "      <td>en</td>\n",
       "      <td>@BellaLove823 @lolaoflucia You look like a who...</td>\n",
       "      <td>TEST_EN</td>\n",
       "    </tr>\n",
       "  </tbody>\n",
       "</table>\n",
       "<p>978 rows × 4 columns</p>\n",
       "</div>"
      ],
      "text/plain": [
       "       id_EXIST lang                                              tweet  \\\n",
       "600001   600001   en  @BrianRoemmele @profgalloway This is a BS, man...   \n",
       "600002   600002   en  @Cathy_TwoHalves @EverydaySexism That's why wo...   \n",
       "600003   600003   en  @betweenstardust Please be our voice.@CNN @cnn...   \n",
       "600004   600004   en  @JonPincince @kmulvane @EverydaySexism, even a...   \n",
       "600005   600005   en  Seriously @JohnLewisRetail?  girls are picture...   \n",
       "...         ...  ...                                                ...   \n",
       "600974   600974   en  @AllyMae99 This straight up sounds like “you l...   \n",
       "600975   600975   en  Nathaniel is trying to help me with a new fake...   \n",
       "600976   600976   en  walkin back from the gym &amp; an older lady s...   \n",
       "600977   600977   en  You look like a whore of Babylon bc that’s the...   \n",
       "600978   600978   en  @BellaLove823 @lolaoflucia You look like a who...   \n",
       "\n",
       "          split  \n",
       "600001  TEST_EN  \n",
       "600002  TEST_EN  \n",
       "600003  TEST_EN  \n",
       "600004  TEST_EN  \n",
       "600005  TEST_EN  \n",
       "...         ...  \n",
       "600974  TEST_EN  \n",
       "600975  TEST_EN  \n",
       "600976  TEST_EN  \n",
       "600977  TEST_EN  \n",
       "600978  TEST_EN  \n",
       "\n",
       "[978 rows x 4 columns]"
      ]
     },
     "execution_count": 5,
     "metadata": {},
     "output_type": "execute_result"
    }
   ],
   "source": [
    "validation = pd.read_json('test/EXIST2023_test_clean.json')\n",
    "validation=validation.transpose()\n",
    "validation=validation.loc[validation['lang'].apply(lambda x:x=='en')]\n",
    "validation"
   ]
  },
  {
   "cell_type": "code",
   "execution_count": 6,
   "metadata": {},
   "outputs": [
    {
     "data": {
      "text/html": [
       "<div>\n",
       "<style scoped>\n",
       "    .dataframe tbody tr th:only-of-type {\n",
       "        vertical-align: middle;\n",
       "    }\n",
       "\n",
       "    .dataframe tbody tr th {\n",
       "        vertical-align: top;\n",
       "    }\n",
       "\n",
       "    .dataframe thead th {\n",
       "        text-align: right;\n",
       "    }\n",
       "</style>\n",
       "<table border=\"1\" class=\"dataframe\">\n",
       "  <thead>\n",
       "    <tr style=\"text-align: right;\">\n",
       "      <th></th>\n",
       "      <th>tweet</th>\n",
       "    </tr>\n",
       "  </thead>\n",
       "  <tbody>\n",
       "    <tr>\n",
       "      <th>0</th>\n",
       "      <td>@BrianRoemmele @profgalloway This is a BS, man...</td>\n",
       "    </tr>\n",
       "    <tr>\n",
       "      <th>1</th>\n",
       "      <td>@Cathy_TwoHalves @EverydaySexism That's why wo...</td>\n",
       "    </tr>\n",
       "    <tr>\n",
       "      <th>2</th>\n",
       "      <td>@betweenstardust Please be our voice.@CNN @cnn...</td>\n",
       "    </tr>\n",
       "    <tr>\n",
       "      <th>3</th>\n",
       "      <td>@JonPincince @kmulvane @EverydaySexism, even a...</td>\n",
       "    </tr>\n",
       "    <tr>\n",
       "      <th>4</th>\n",
       "      <td>Seriously @JohnLewisRetail?  girls are picture...</td>\n",
       "    </tr>\n",
       "    <tr>\n",
       "      <th>...</th>\n",
       "      <td>...</td>\n",
       "    </tr>\n",
       "    <tr>\n",
       "      <th>973</th>\n",
       "      <td>@AllyMae99 This straight up sounds like “you l...</td>\n",
       "    </tr>\n",
       "    <tr>\n",
       "      <th>974</th>\n",
       "      <td>Nathaniel is trying to help me with a new fake...</td>\n",
       "    </tr>\n",
       "    <tr>\n",
       "      <th>975</th>\n",
       "      <td>walkin back from the gym &amp;amp; an older lady s...</td>\n",
       "    </tr>\n",
       "    <tr>\n",
       "      <th>976</th>\n",
       "      <td>You look like a whore of Babylon bc that’s the...</td>\n",
       "    </tr>\n",
       "    <tr>\n",
       "      <th>977</th>\n",
       "      <td>@BellaLove823 @lolaoflucia You look like a who...</td>\n",
       "    </tr>\n",
       "  </tbody>\n",
       "</table>\n",
       "<p>978 rows × 1 columns</p>\n",
       "</div>"
      ],
      "text/plain": [
       "                                                 tweet\n",
       "0    @BrianRoemmele @profgalloway This is a BS, man...\n",
       "1    @Cathy_TwoHalves @EverydaySexism That's why wo...\n",
       "2    @betweenstardust Please be our voice.@CNN @cnn...\n",
       "3    @JonPincince @kmulvane @EverydaySexism, even a...\n",
       "4    Seriously @JohnLewisRetail?  girls are picture...\n",
       "..                                                 ...\n",
       "973  @AllyMae99 This straight up sounds like “you l...\n",
       "974  Nathaniel is trying to help me with a new fake...\n",
       "975  walkin back from the gym &amp; an older lady s...\n",
       "976  You look like a whore of Babylon bc that’s the...\n",
       "977  @BellaLove823 @lolaoflucia You look like a who...\n",
       "\n",
       "[978 rows x 1 columns]"
      ]
     },
     "execution_count": 6,
     "metadata": {},
     "output_type": "execute_result"
    }
   ],
   "source": [
    "validation_data = pd.DataFrame()\n",
    "validation_data['tweet'] = validation['tweet']\n",
    "validation_data.reset_index(inplace=True, drop = True)\n",
    "validation_data"
   ]
  },
  {
   "cell_type": "code",
   "execution_count": 7,
   "metadata": {},
   "outputs": [
    {
     "name": "stderr",
     "output_type": "stream",
     "text": [
      "[nltk_data] Downloading package stopwords to /home/kelkar/nltk_data...\n",
      "[nltk_data]   Package stopwords is already up-to-date!\n",
      "[nltk_data] Downloading package wordnet to /home/kelkar/nltk_data...\n",
      "[nltk_data]   Package wordnet is already up-to-date!\n",
      "[nltk_data] Downloading package omw-1.4 to /home/kelkar/nltk_data...\n",
      "[nltk_data]   Package omw-1.4 is already up-to-date!\n"
     ]
    }
   ],
   "source": [
    "#clean text\n",
    "\n",
    "import nltk\n",
    "nltk.download('stopwords')\n",
    "nltk.download(\"wordnet\")\n",
    "nltk.download('omw-1.4')\n",
    "from nltk.corpus import stopwords\n",
    "from nltk.stem import WordNetLemmatizer\n",
    "\n",
    "import re\n",
    "\n",
    "def text_preprocess(ds: pd.Series) -> pd.Series:\n",
    "    \n",
    "    for m in range(len(ds)):\n",
    "        \n",
    "        main_words = re.sub('[^a-zA-Z]', ' ', ds[m])                                      # Retain only alphabets\n",
    "        main_words = (main_words.lower()).split()\n",
    "        main_words = [w.lower() for w in main_words if not w in set(stopwords.words('english'))]  # Remove stopwords\n",
    "        \n",
    "        lem = WordNetLemmatizer()\n",
    "        main_words = [lem.lemmatize(w) for w in main_words if len(w) > 1]                 # Group different forms of the same word\n",
    "        \n",
    "        main_words = ' '.join(main_words)\n",
    "        ds[m] = main_words\n",
    "\n",
    "    return ds"
   ]
  },
  {
   "cell_type": "code",
   "execution_count": 8,
   "metadata": {},
   "outputs": [
    {
     "data": {
      "text/html": [
       "<div>\n",
       "<style scoped>\n",
       "    .dataframe tbody tr th:only-of-type {\n",
       "        vertical-align: middle;\n",
       "    }\n",
       "\n",
       "    .dataframe tbody tr th {\n",
       "        vertical-align: top;\n",
       "    }\n",
       "\n",
       "    .dataframe thead th {\n",
       "        text-align: right;\n",
       "    }\n",
       "</style>\n",
       "<table border=\"1\" class=\"dataframe\">\n",
       "  <thead>\n",
       "    <tr style=\"text-align: right;\">\n",
       "      <th></th>\n",
       "      <th>tweet</th>\n",
       "      <th>label</th>\n",
       "    </tr>\n",
       "  </thead>\n",
       "  <tbody>\n",
       "    <tr>\n",
       "      <th>0</th>\n",
       "      <td>writing uni essay local pub coffee random old ...</td>\n",
       "      <td>YES</td>\n",
       "    </tr>\n",
       "    <tr>\n",
       "      <th>1</th>\n",
       "      <td>universalorl dont appreciate two ride team mem...</td>\n",
       "      <td>YES</td>\n",
       "    </tr>\n",
       "    <tr>\n",
       "      <th>2</th>\n",
       "      <td>according customer plenty time go spent stirli...</td>\n",
       "      <td>YES</td>\n",
       "    </tr>\n",
       "    <tr>\n",
       "      <th>3</th>\n",
       "      <td>bloke drink beer sorry bloke drink wine appare...</td>\n",
       "      <td>YES</td>\n",
       "    </tr>\n",
       "    <tr>\n",
       "      <th>4</th>\n",
       "      <td>everydaysexism mean woman usually end lower pa...</td>\n",
       "      <td>YES</td>\n",
       "    </tr>\n",
       "    <tr>\n",
       "      <th>...</th>\n",
       "      <td>...</td>\n",
       "      <td>...</td>\n",
       "    </tr>\n",
       "    <tr>\n",
       "      <th>3309</th>\n",
       "      <td>cryptosterone new twice many men invest crypto...</td>\n",
       "      <td>NO</td>\n",
       "    </tr>\n",
       "    <tr>\n",
       "      <th>3310</th>\n",
       "      <td>scubamysteve ask cenk hypothetical kind thinki...</td>\n",
       "      <td>NO</td>\n",
       "    </tr>\n",
       "    <tr>\n",
       "      <th>3311</th>\n",
       "      <td>snowflowergomi minseulsoo chimsmaze dragged ac...</td>\n",
       "      <td>NO</td>\n",
       "    </tr>\n",
       "    <tr>\n",
       "      <th>3312</th>\n",
       "      <td>uh allowed calling make look like cunt fortuna...</td>\n",
       "      <td>NO</td>\n",
       "    </tr>\n",
       "    <tr>\n",
       "      <th>3313</th>\n",
       "      <td>jetcelestial polgara charlotteemmauk know poin...</td>\n",
       "      <td>NO</td>\n",
       "    </tr>\n",
       "  </tbody>\n",
       "</table>\n",
       "<p>3314 rows × 2 columns</p>\n",
       "</div>"
      ],
      "text/plain": [
       "                                                  tweet label\n",
       "0     writing uni essay local pub coffee random old ...   YES\n",
       "1     universalorl dont appreciate two ride team mem...   YES\n",
       "2     according customer plenty time go spent stirli...   YES\n",
       "3     bloke drink beer sorry bloke drink wine appare...   YES\n",
       "4     everydaysexism mean woman usually end lower pa...   YES\n",
       "...                                                 ...   ...\n",
       "3309  cryptosterone new twice many men invest crypto...    NO\n",
       "3310  scubamysteve ask cenk hypothetical kind thinki...    NO\n",
       "3311  snowflowergomi minseulsoo chimsmaze dragged ac...    NO\n",
       "3312  uh allowed calling make look like cunt fortuna...    NO\n",
       "3313  jetcelestial polgara charlotteemmauk know poin...    NO\n",
       "\n",
       "[3314 rows x 2 columns]"
      ]
     },
     "execution_count": 8,
     "metadata": {},
     "output_type": "execute_result"
    }
   ],
   "source": [
    "ser = pd.Series(train_data['tweet'])\n",
    "#create new variable with cleaned text\n",
    "train_data_cleaned = pd.DataFrame()\n",
    "train_data_cleaned['tweet'] = text_preprocess(ser).values\n",
    "train_data_cleaned['label'] = train_data['label']\n",
    "train_data_cleaned"
   ]
  },
  {
   "cell_type": "code",
   "execution_count": 9,
   "metadata": {},
   "outputs": [
    {
     "data": {
      "text/html": [
       "<div>\n",
       "<style scoped>\n",
       "    .dataframe tbody tr th:only-of-type {\n",
       "        vertical-align: middle;\n",
       "    }\n",
       "\n",
       "    .dataframe tbody tr th {\n",
       "        vertical-align: top;\n",
       "    }\n",
       "\n",
       "    .dataframe thead th {\n",
       "        text-align: right;\n",
       "    }\n",
       "</style>\n",
       "<table border=\"1\" class=\"dataframe\">\n",
       "  <thead>\n",
       "    <tr style=\"text-align: right;\">\n",
       "      <th></th>\n",
       "      <th>tweet</th>\n",
       "    </tr>\n",
       "  </thead>\n",
       "  <tbody>\n",
       "    <tr>\n",
       "      <th>0</th>\n",
       "      <td>brianroemmele profgalloway b manosphere commen...</td>\n",
       "    </tr>\n",
       "    <tr>\n",
       "      <th>1</th>\n",
       "      <td>cathy twohalves everydaysexism woman stay home...</td>\n",
       "    </tr>\n",
       "    <tr>\n",
       "      <th>2</th>\n",
       "      <td>betweenstardust please voice cnn cnnbrk cnnfra...</td>\n",
       "    </tr>\n",
       "    <tr>\n",
       "      <th>3</th>\n",
       "      <td>jonpincince kmulvane everydaysexism even roe w...</td>\n",
       "    </tr>\n",
       "    <tr>\n",
       "      <th>4</th>\n",
       "      <td>seriously johnlewisretail girl pictured stylis...</td>\n",
       "    </tr>\n",
       "    <tr>\n",
       "      <th>...</th>\n",
       "      <td>...</td>\n",
       "    </tr>\n",
       "    <tr>\n",
       "      <th>973</th>\n",
       "      <td>allymae straight sound like look like whore co...</td>\n",
       "    </tr>\n",
       "    <tr>\n",
       "      <th>974</th>\n",
       "      <td>nathaniel trying help new fake club name amp s...</td>\n",
       "    </tr>\n",
       "    <tr>\n",
       "      <th>975</th>\n",
       "      <td>walkin back gym amp older lady shout car look ...</td>\n",
       "    </tr>\n",
       "    <tr>\n",
       "      <th>976</th>\n",
       "      <td>look like whore babylon bc requirement church ...</td>\n",
       "    </tr>\n",
       "    <tr>\n",
       "      <th>977</th>\n",
       "      <td>bellalove lolaoflucia look like whore stop pro...</td>\n",
       "    </tr>\n",
       "  </tbody>\n",
       "</table>\n",
       "<p>978 rows × 1 columns</p>\n",
       "</div>"
      ],
      "text/plain": [
       "                                                 tweet\n",
       "0    brianroemmele profgalloway b manosphere commen...\n",
       "1    cathy twohalves everydaysexism woman stay home...\n",
       "2    betweenstardust please voice cnn cnnbrk cnnfra...\n",
       "3    jonpincince kmulvane everydaysexism even roe w...\n",
       "4    seriously johnlewisretail girl pictured stylis...\n",
       "..                                                 ...\n",
       "973  allymae straight sound like look like whore co...\n",
       "974  nathaniel trying help new fake club name amp s...\n",
       "975  walkin back gym amp older lady shout car look ...\n",
       "976  look like whore babylon bc requirement church ...\n",
       "977  bellalove lolaoflucia look like whore stop pro...\n",
       "\n",
       "[978 rows x 1 columns]"
      ]
     },
     "execution_count": 9,
     "metadata": {},
     "output_type": "execute_result"
    }
   ],
   "source": [
    "ser = pd.Series(validation_data['tweet'])\n",
    "#create new variable with cleaned text\n",
    "validation_data_cleaned = pd.DataFrame()\n",
    "validation_data_cleaned['tweet'] = text_preprocess(ser).values\n",
    "validation_data_cleaned"
   ]
  },
  {
   "cell_type": "code",
   "execution_count": 10,
   "metadata": {},
   "outputs": [],
   "source": [
    "def tokenize_sent(sent):\n",
    "    return [word for word in sent.split(\" \")]\n"
   ]
  },
  {
   "cell_type": "code",
   "execution_count": 11,
   "metadata": {},
   "outputs": [
    {
     "data": {
      "text/html": [
       "<div>\n",
       "<style scoped>\n",
       "    .dataframe tbody tr th:only-of-type {\n",
       "        vertical-align: middle;\n",
       "    }\n",
       "\n",
       "    .dataframe tbody tr th {\n",
       "        vertical-align: top;\n",
       "    }\n",
       "\n",
       "    .dataframe thead th {\n",
       "        text-align: right;\n",
       "    }\n",
       "</style>\n",
       "<table border=\"1\" class=\"dataframe\">\n",
       "  <thead>\n",
       "    <tr style=\"text-align: right;\">\n",
       "      <th></th>\n",
       "      <th>tweet</th>\n",
       "      <th>label</th>\n",
       "    </tr>\n",
       "  </thead>\n",
       "  <tbody>\n",
       "    <tr>\n",
       "      <th>0</th>\n",
       "      <td>[writing, uni, essay, local, pub, coffee, rand...</td>\n",
       "      <td>YES</td>\n",
       "    </tr>\n",
       "    <tr>\n",
       "      <th>1</th>\n",
       "      <td>[universalorl, dont, appreciate, two, ride, te...</td>\n",
       "      <td>YES</td>\n",
       "    </tr>\n",
       "    <tr>\n",
       "      <th>2</th>\n",
       "      <td>[according, customer, plenty, time, go, spent,...</td>\n",
       "      <td>YES</td>\n",
       "    </tr>\n",
       "    <tr>\n",
       "      <th>3</th>\n",
       "      <td>[bloke, drink, beer, sorry, bloke, drink, wine...</td>\n",
       "      <td>YES</td>\n",
       "    </tr>\n",
       "    <tr>\n",
       "      <th>4</th>\n",
       "      <td>[everydaysexism, mean, woman, usually, end, lo...</td>\n",
       "      <td>YES</td>\n",
       "    </tr>\n",
       "    <tr>\n",
       "      <th>...</th>\n",
       "      <td>...</td>\n",
       "      <td>...</td>\n",
       "    </tr>\n",
       "    <tr>\n",
       "      <th>3309</th>\n",
       "      <td>[cryptosterone, new, twice, many, men, invest,...</td>\n",
       "      <td>NO</td>\n",
       "    </tr>\n",
       "    <tr>\n",
       "      <th>3310</th>\n",
       "      <td>[scubamysteve, ask, cenk, hypothetical, kind, ...</td>\n",
       "      <td>NO</td>\n",
       "    </tr>\n",
       "    <tr>\n",
       "      <th>3311</th>\n",
       "      <td>[snowflowergomi, minseulsoo, chimsmaze, dragge...</td>\n",
       "      <td>NO</td>\n",
       "    </tr>\n",
       "    <tr>\n",
       "      <th>3312</th>\n",
       "      <td>[uh, allowed, calling, make, look, like, cunt,...</td>\n",
       "      <td>NO</td>\n",
       "    </tr>\n",
       "    <tr>\n",
       "      <th>3313</th>\n",
       "      <td>[jetcelestial, polgara, charlotteemmauk, know,...</td>\n",
       "      <td>NO</td>\n",
       "    </tr>\n",
       "  </tbody>\n",
       "</table>\n",
       "<p>3314 rows × 2 columns</p>\n",
       "</div>"
      ],
      "text/plain": [
       "                                                  tweet label\n",
       "0     [writing, uni, essay, local, pub, coffee, rand...   YES\n",
       "1     [universalorl, dont, appreciate, two, ride, te...   YES\n",
       "2     [according, customer, plenty, time, go, spent,...   YES\n",
       "3     [bloke, drink, beer, sorry, bloke, drink, wine...   YES\n",
       "4     [everydaysexism, mean, woman, usually, end, lo...   YES\n",
       "...                                                 ...   ...\n",
       "3309  [cryptosterone, new, twice, many, men, invest,...    NO\n",
       "3310  [scubamysteve, ask, cenk, hypothetical, kind, ...    NO\n",
       "3311  [snowflowergomi, minseulsoo, chimsmaze, dragge...    NO\n",
       "3312  [uh, allowed, calling, make, look, like, cunt,...    NO\n",
       "3313  [jetcelestial, polgara, charlotteemmauk, know,...    NO\n",
       "\n",
       "[3314 rows x 2 columns]"
      ]
     },
     "execution_count": 11,
     "metadata": {},
     "output_type": "execute_result"
    }
   ],
   "source": [
    "train_data_cleaned['tweet'] = train_data_cleaned['tweet'].apply(tokenize_sent)\n",
    "train_data_cleaned"
   ]
  },
  {
   "cell_type": "code",
   "execution_count": 12,
   "metadata": {},
   "outputs": [
    {
     "data": {
      "text/html": [
       "<div>\n",
       "<style scoped>\n",
       "    .dataframe tbody tr th:only-of-type {\n",
       "        vertical-align: middle;\n",
       "    }\n",
       "\n",
       "    .dataframe tbody tr th {\n",
       "        vertical-align: top;\n",
       "    }\n",
       "\n",
       "    .dataframe thead th {\n",
       "        text-align: right;\n",
       "    }\n",
       "</style>\n",
       "<table border=\"1\" class=\"dataframe\">\n",
       "  <thead>\n",
       "    <tr style=\"text-align: right;\">\n",
       "      <th></th>\n",
       "      <th>tweet</th>\n",
       "    </tr>\n",
       "  </thead>\n",
       "  <tbody>\n",
       "    <tr>\n",
       "      <th>0</th>\n",
       "      <td>[brianroemmele, profgalloway, b, manosphere, c...</td>\n",
       "    </tr>\n",
       "    <tr>\n",
       "      <th>1</th>\n",
       "      <td>[cathy, twohalves, everydaysexism, woman, stay...</td>\n",
       "    </tr>\n",
       "    <tr>\n",
       "      <th>2</th>\n",
       "      <td>[betweenstardust, please, voice, cnn, cnnbrk, ...</td>\n",
       "    </tr>\n",
       "    <tr>\n",
       "      <th>3</th>\n",
       "      <td>[jonpincince, kmulvane, everydaysexism, even, ...</td>\n",
       "    </tr>\n",
       "    <tr>\n",
       "      <th>4</th>\n",
       "      <td>[seriously, johnlewisretail, girl, pictured, s...</td>\n",
       "    </tr>\n",
       "    <tr>\n",
       "      <th>...</th>\n",
       "      <td>...</td>\n",
       "    </tr>\n",
       "    <tr>\n",
       "      <th>973</th>\n",
       "      <td>[allymae, straight, sound, like, look, like, w...</td>\n",
       "    </tr>\n",
       "    <tr>\n",
       "      <th>974</th>\n",
       "      <td>[nathaniel, trying, help, new, fake, club, nam...</td>\n",
       "    </tr>\n",
       "    <tr>\n",
       "      <th>975</th>\n",
       "      <td>[walkin, back, gym, amp, older, lady, shout, c...</td>\n",
       "    </tr>\n",
       "    <tr>\n",
       "      <th>976</th>\n",
       "      <td>[look, like, whore, babylon, bc, requirement, ...</td>\n",
       "    </tr>\n",
       "    <tr>\n",
       "      <th>977</th>\n",
       "      <td>[bellalove, lolaoflucia, look, like, whore, st...</td>\n",
       "    </tr>\n",
       "  </tbody>\n",
       "</table>\n",
       "<p>978 rows × 1 columns</p>\n",
       "</div>"
      ],
      "text/plain": [
       "                                                 tweet\n",
       "0    [brianroemmele, profgalloway, b, manosphere, c...\n",
       "1    [cathy, twohalves, everydaysexism, woman, stay...\n",
       "2    [betweenstardust, please, voice, cnn, cnnbrk, ...\n",
       "3    [jonpincince, kmulvane, everydaysexism, even, ...\n",
       "4    [seriously, johnlewisretail, girl, pictured, s...\n",
       "..                                                 ...\n",
       "973  [allymae, straight, sound, like, look, like, w...\n",
       "974  [nathaniel, trying, help, new, fake, club, nam...\n",
       "975  [walkin, back, gym, amp, older, lady, shout, c...\n",
       "976  [look, like, whore, babylon, bc, requirement, ...\n",
       "977  [bellalove, lolaoflucia, look, like, whore, st...\n",
       "\n",
       "[978 rows x 1 columns]"
      ]
     },
     "execution_count": 12,
     "metadata": {},
     "output_type": "execute_result"
    }
   ],
   "source": [
    "validation_data_cleaned['tweet'] = validation_data_cleaned['tweet'].apply(tokenize_sent)\n",
    "validation_data_cleaned"
   ]
  },
  {
   "cell_type": "code",
   "execution_count": 13,
   "metadata": {},
   "outputs": [
    {
     "name": "stdout",
     "output_type": "stream",
     "text": [
      "74\n",
      "39\n"
     ]
    }
   ],
   "source": [
    "print(max(train_data_cleaned['tweet'].apply(len)))\n",
    "print(max(validation_data_cleaned['tweet'].apply(len)))"
   ]
  },
  {
   "cell_type": "code",
   "execution_count": 14,
   "metadata": {},
   "outputs": [],
   "source": [
    "from gensim.models import KeyedVectors\n"
   ]
  },
  {
   "cell_type": "code",
   "execution_count": 15,
   "metadata": {},
   "outputs": [],
   "source": [
    "model = KeyedVectors.load_word2vec_format('cc.en.300.vec', binary=False)"
   ]
  },
  {
   "cell_type": "code",
   "execution_count": 16,
   "metadata": {},
   "outputs": [
    {
     "data": {
      "text/plain": [
       "<gensim.models.keyedvectors.KeyedVectors at 0x7f69fd9b9e80>"
      ]
     },
     "execution_count": 16,
     "metadata": {},
     "output_type": "execute_result"
    }
   ],
   "source": [
    "model"
   ]
  },
  {
   "cell_type": "code",
   "execution_count": 17,
   "metadata": {},
   "outputs": [],
   "source": [
    "def vectorize_tweet(tweet):\n",
    "    vec = []\n",
    "    for word in tweet:\n",
    "        if word in model.key_to_index:\n",
    "            vec.append(model[word])\n",
    "    return vec"
   ]
  },
  {
   "cell_type": "code",
   "execution_count": 18,
   "metadata": {},
   "outputs": [],
   "source": [
    "train_data_cleaned['tweet'] = train_data_cleaned['tweet'].apply(vectorize_tweet)\n",
    "validation_data_cleaned['tweet'] = validation_data_cleaned['tweet'].apply(vectorize_tweet)"
   ]
  },
  {
   "cell_type": "code",
   "execution_count": 19,
   "metadata": {},
   "outputs": [
    {
     "name": "stdout",
     "output_type": "stream",
     "text": [
      "41\n",
      "37\n"
     ]
    }
   ],
   "source": [
    "print(max(train_data_cleaned['tweet'].apply(len)))\n",
    "print(max(validation_data_cleaned['tweet'].apply(len)))"
   ]
  },
  {
   "cell_type": "code",
   "execution_count": 20,
   "metadata": {},
   "outputs": [
    {
     "data": {
      "text/html": [
       "<div>\n",
       "<style scoped>\n",
       "    .dataframe tbody tr th:only-of-type {\n",
       "        vertical-align: middle;\n",
       "    }\n",
       "\n",
       "    .dataframe tbody tr th {\n",
       "        vertical-align: top;\n",
       "    }\n",
       "\n",
       "    .dataframe thead th {\n",
       "        text-align: right;\n",
       "    }\n",
       "</style>\n",
       "<table border=\"1\" class=\"dataframe\">\n",
       "  <thead>\n",
       "    <tr style=\"text-align: right;\">\n",
       "      <th></th>\n",
       "      <th>tweet</th>\n",
       "      <th>label</th>\n",
       "    </tr>\n",
       "  </thead>\n",
       "  <tbody>\n",
       "    <tr>\n",
       "      <th>0</th>\n",
       "      <td>[[-0.0066, 0.0245, 0.0565, 0.0465, 0.0555, -0....</td>\n",
       "      <td>YES</td>\n",
       "    </tr>\n",
       "    <tr>\n",
       "      <th>1</th>\n",
       "      <td>[[-0.0501, -0.0011, 0.0076, 0.1342, -0.2558, -...</td>\n",
       "      <td>YES</td>\n",
       "    </tr>\n",
       "    <tr>\n",
       "      <th>2</th>\n",
       "      <td>[[-0.0131, 0.1091, -0.0101, 0.0115, -0.0078, -...</td>\n",
       "      <td>YES</td>\n",
       "    </tr>\n",
       "    <tr>\n",
       "      <th>3</th>\n",
       "      <td>[[0.0321, -0.0022, -0.0269, 0.0756, -0.0477, -...</td>\n",
       "      <td>YES</td>\n",
       "    </tr>\n",
       "    <tr>\n",
       "      <th>4</th>\n",
       "      <td>[[0.0507, 0.0088, 0.0209, 0.0685, -0.0894, -0....</td>\n",
       "      <td>YES</td>\n",
       "    </tr>\n",
       "    <tr>\n",
       "      <th>...</th>\n",
       "      <td>...</td>\n",
       "      <td>...</td>\n",
       "    </tr>\n",
       "    <tr>\n",
       "      <th>3309</th>\n",
       "      <td>[[-0.0178, -0.0194, 0.0942, 0.1553, 0.0191, 0....</td>\n",
       "      <td>NO</td>\n",
       "    </tr>\n",
       "    <tr>\n",
       "      <th>3310</th>\n",
       "      <td>[[0.0477, 0.0296, 0.0866, 0.0692, -0.1562, -0....</td>\n",
       "      <td>NO</td>\n",
       "    </tr>\n",
       "    <tr>\n",
       "      <th>3311</th>\n",
       "      <td>[[-0.0058, 0.0137, 0.0456, 0.0515, -0.0143, 0....</td>\n",
       "      <td>NO</td>\n",
       "    </tr>\n",
       "    <tr>\n",
       "      <th>3312</th>\n",
       "      <td>[[0.1839, -0.4104, -0.2185, -0.1135, -0.1389, ...</td>\n",
       "      <td>NO</td>\n",
       "    </tr>\n",
       "    <tr>\n",
       "      <th>3313</th>\n",
       "      <td>[[-0.0033, 0.0733, 0.0494, 0.0586, -0.1249, -0...</td>\n",
       "      <td>NO</td>\n",
       "    </tr>\n",
       "  </tbody>\n",
       "</table>\n",
       "<p>3314 rows × 2 columns</p>\n",
       "</div>"
      ],
      "text/plain": [
       "                                                  tweet label\n",
       "0     [[-0.0066, 0.0245, 0.0565, 0.0465, 0.0555, -0....   YES\n",
       "1     [[-0.0501, -0.0011, 0.0076, 0.1342, -0.2558, -...   YES\n",
       "2     [[-0.0131, 0.1091, -0.0101, 0.0115, -0.0078, -...   YES\n",
       "3     [[0.0321, -0.0022, -0.0269, 0.0756, -0.0477, -...   YES\n",
       "4     [[0.0507, 0.0088, 0.0209, 0.0685, -0.0894, -0....   YES\n",
       "...                                                 ...   ...\n",
       "3309  [[-0.0178, -0.0194, 0.0942, 0.1553, 0.0191, 0....    NO\n",
       "3310  [[0.0477, 0.0296, 0.0866, 0.0692, -0.1562, -0....    NO\n",
       "3311  [[-0.0058, 0.0137, 0.0456, 0.0515, -0.0143, 0....    NO\n",
       "3312  [[0.1839, -0.4104, -0.2185, -0.1135, -0.1389, ...    NO\n",
       "3313  [[-0.0033, 0.0733, 0.0494, 0.0586, -0.1249, -0...    NO\n",
       "\n",
       "[3314 rows x 2 columns]"
      ]
     },
     "execution_count": 20,
     "metadata": {},
     "output_type": "execute_result"
    }
   ],
   "source": [
    "train_data_cleaned"
   ]
  },
  {
   "cell_type": "code",
   "execution_count": 21,
   "metadata": {},
   "outputs": [
    {
     "data": {
      "text/html": [
       "<div>\n",
       "<style scoped>\n",
       "    .dataframe tbody tr th:only-of-type {\n",
       "        vertical-align: middle;\n",
       "    }\n",
       "\n",
       "    .dataframe tbody tr th {\n",
       "        vertical-align: top;\n",
       "    }\n",
       "\n",
       "    .dataframe thead th {\n",
       "        text-align: right;\n",
       "    }\n",
       "</style>\n",
       "<table border=\"1\" class=\"dataframe\">\n",
       "  <thead>\n",
       "    <tr style=\"text-align: right;\">\n",
       "      <th></th>\n",
       "      <th>tweet</th>\n",
       "    </tr>\n",
       "  </thead>\n",
       "  <tbody>\n",
       "    <tr>\n",
       "      <th>0</th>\n",
       "      <td>[[0.0185, -0.686, -0.1796, -0.2684, -0.0892, -...</td>\n",
       "    </tr>\n",
       "    <tr>\n",
       "      <th>1</th>\n",
       "      <td>[[-0.0088, -0.0179, 0.0676, 0.0176, 0.1107, -0...</td>\n",
       "    </tr>\n",
       "    <tr>\n",
       "      <th>2</th>\n",
       "      <td>[[0.0356, -0.0126, 0.0676, 0.0512, 0.0242, -0....</td>\n",
       "    </tr>\n",
       "    <tr>\n",
       "      <th>3</th>\n",
       "      <td>[[0.0162, -0.0508, -0.082, 0.0862, -0.0712, -0...</td>\n",
       "    </tr>\n",
       "    <tr>\n",
       "      <th>4</th>\n",
       "      <td>[[0.0101, -0.0311, -0.003, 0.0694, -0.0385, -0...</td>\n",
       "    </tr>\n",
       "    <tr>\n",
       "      <th>...</th>\n",
       "      <td>...</td>\n",
       "    </tr>\n",
       "    <tr>\n",
       "      <th>973</th>\n",
       "      <td>[[-0.0126, 0.0223, 0.0133, 0.0771, -0.0081, -0...</td>\n",
       "    </tr>\n",
       "    <tr>\n",
       "      <th>974</th>\n",
       "      <td>[[-0.0326, -0.0134, 0.0297, 0.0681, 0.0857, -0...</td>\n",
       "    </tr>\n",
       "    <tr>\n",
       "      <th>975</th>\n",
       "      <td>[[0.0969, -0.0522, -0.0979, 0.0651, -0.075, 0....</td>\n",
       "    </tr>\n",
       "    <tr>\n",
       "      <th>976</th>\n",
       "      <td>[[0.0555, 0.0124, 0.1839, 0.0747, -0.0767, -0....</td>\n",
       "    </tr>\n",
       "    <tr>\n",
       "      <th>977</th>\n",
       "      <td>[[0.0555, 0.0124, 0.1839, 0.0747, -0.0767, -0....</td>\n",
       "    </tr>\n",
       "  </tbody>\n",
       "</table>\n",
       "<p>978 rows × 1 columns</p>\n",
       "</div>"
      ],
      "text/plain": [
       "                                                 tweet\n",
       "0    [[0.0185, -0.686, -0.1796, -0.2684, -0.0892, -...\n",
       "1    [[-0.0088, -0.0179, 0.0676, 0.0176, 0.1107, -0...\n",
       "2    [[0.0356, -0.0126, 0.0676, 0.0512, 0.0242, -0....\n",
       "3    [[0.0162, -0.0508, -0.082, 0.0862, -0.0712, -0...\n",
       "4    [[0.0101, -0.0311, -0.003, 0.0694, -0.0385, -0...\n",
       "..                                                 ...\n",
       "973  [[-0.0126, 0.0223, 0.0133, 0.0771, -0.0081, -0...\n",
       "974  [[-0.0326, -0.0134, 0.0297, 0.0681, 0.0857, -0...\n",
       "975  [[0.0969, -0.0522, -0.0979, 0.0651, -0.075, 0....\n",
       "976  [[0.0555, 0.0124, 0.1839, 0.0747, -0.0767, -0....\n",
       "977  [[0.0555, 0.0124, 0.1839, 0.0747, -0.0767, -0....\n",
       "\n",
       "[978 rows x 1 columns]"
      ]
     },
     "execution_count": 21,
     "metadata": {},
     "output_type": "execute_result"
    }
   ],
   "source": [
    "validation_data_cleaned"
   ]
  },
  {
   "cell_type": "code",
   "execution_count": 22,
   "metadata": {},
   "outputs": [],
   "source": [
    "import random\n",
    "\n",
    "X_train = list(train_data_cleaned['tweet'])\n",
    "Y_train = list(train_data_cleaned['label'])\n",
    "\n",
    "X_test = list(validation_data_cleaned['tweet'])\n",
    "temp = list(zip(X_train, Y_train))\n",
    "random.shuffle(temp)\n",
    "X_train, Y_train = zip(*temp)\n",
    "X_train = list(X_train)\n",
    "Y_train = list(Y_train)"
   ]
  },
  {
   "cell_type": "code",
   "execution_count": 23,
   "metadata": {},
   "outputs": [
    {
     "name": "stderr",
     "output_type": "stream",
     "text": [
      "2023-05-05 17:03:19.569409: I tensorflow/tsl/cuda/cudart_stub.cc:28] Could not find cuda drivers on your machine, GPU will not be used.\n",
      "2023-05-05 17:03:19.721083: I tensorflow/tsl/cuda/cudart_stub.cc:28] Could not find cuda drivers on your machine, GPU will not be used.\n",
      "2023-05-05 17:03:19.721610: I tensorflow/core/platform/cpu_feature_guard.cc:182] This TensorFlow binary is optimized to use available CPU instructions in performance-critical operations.\n",
      "To enable the following instructions: AVX2 FMA, in other operations, rebuild TensorFlow with the appropriate compiler flags.\n",
      "2023-05-05 17:03:20.564381: W tensorflow/compiler/tf2tensorrt/utils/py_utils.cc:38] TF-TRT Warning: Could not find TensorRT\n"
     ]
    }
   ],
   "source": [
    "import tensorflow as tf"
   ]
  },
  {
   "cell_type": "code",
   "execution_count": 24,
   "metadata": {},
   "outputs": [],
   "source": [
    "def padto39(x):\n",
    "    if len(x) < 41:\n",
    "        for i in range(41 - len(x)):\n",
    "            x.append([0]*300)\n",
    "    return x"
   ]
  },
  {
   "cell_type": "code",
   "execution_count": 25,
   "metadata": {},
   "outputs": [],
   "source": [
    "for i in range(len(X_train)):\n",
    "    X_train[i] = padto39(X_train[i])\n",
    "\n",
    "for i in range(len(X_test)):\n",
    "    X_test[i] = padto39(X_test[i])"
   ]
  },
  {
   "cell_type": "code",
   "execution_count": 26,
   "metadata": {},
   "outputs": [
    {
     "name": "stderr",
     "output_type": "stream",
     "text": [
      "2023-05-05 17:03:25.177404: I tensorflow/compiler/xla/stream_executor/cuda/cuda_gpu_executor.cc:996] successful NUMA node read from SysFS had negative value (-1), but there must be at least one NUMA node, so returning NUMA node zero. See more at https://github.com/torvalds/linux/blob/v6.0/Documentation/ABI/testing/sysfs-bus-pci#L344-L355\n",
      "2023-05-05 17:03:25.177828: W tensorflow/core/common_runtime/gpu/gpu_device.cc:1956] Cannot dlopen some GPU libraries. Please make sure the missing libraries mentioned above are installed properly if you would like to use GPU. Follow the guide at https://www.tensorflow.org/install/gpu for how to download and setup the required libraries for your platform.\n",
      "Skipping registering GPU devices...\n"
     ]
    }
   ],
   "source": [
    "X_train_tensor = tf.convert_to_tensor(X_train)\n",
    "X_test_tensor = tf.convert_to_tensor(X_test)"
   ]
  },
  {
   "cell_type": "code",
   "execution_count": 27,
   "metadata": {},
   "outputs": [
    {
     "name": "stdout",
     "output_type": "stream",
     "text": [
      "tf.Tensor([3314   41  300], shape=(3,), dtype=int32)\n",
      "tf.Tensor([978  41 300], shape=(3,), dtype=int32)\n"
     ]
    }
   ],
   "source": [
    "print(tf.shape(X_train_tensor))\n",
    "print(tf.shape(X_test_tensor))"
   ]
  },
  {
   "cell_type": "code",
   "execution_count": 28,
   "metadata": {},
   "outputs": [],
   "source": [
    "#convert yes to 1 and no to 0\n",
    "for i in range(len(Y_train)):\n",
    "    if Y_train[i] == 'YES':\n",
    "        Y_train[i] = [1, 0]\n",
    "    else:\n",
    "        Y_train[i] = [0, 1]\n"
   ]
  },
  {
   "cell_type": "code",
   "execution_count": 29,
   "metadata": {},
   "outputs": [],
   "source": [
    "Y_train_tensor = tf.convert_to_tensor(Y_train)"
   ]
  },
  {
   "cell_type": "code",
   "execution_count": 30,
   "metadata": {},
   "outputs": [
    {
     "name": "stdout",
     "output_type": "stream",
     "text": [
      "Model: \"sequential\"\n",
      "_________________________________________________________________\n",
      " Layer (type)                Output Shape              Param #   \n",
      "=================================================================\n",
      " lstm (LSTM)                 (None, 150)               270600    \n",
      "                                                                 \n",
      " dropout (Dropout)           (None, 150)               0         \n",
      "                                                                 \n",
      " dense (Dense)               (None, 32)                4832      \n",
      "                                                                 \n",
      " dropout_1 (Dropout)         (None, 32)                0         \n",
      "                                                                 \n",
      " dense_1 (Dense)             (None, 2)                 66        \n",
      "                                                                 \n",
      "=================================================================\n",
      "Total params: 275,498\n",
      "Trainable params: 275,498\n",
      "Non-trainable params: 0\n",
      "_________________________________________________________________\n"
     ]
    },
    {
     "name": "stderr",
     "output_type": "stream",
     "text": [
      "2023-05-05 17:03:27.986733: I tensorflow/core/common_runtime/executor.cc:1197] [/device:CPU:0] (DEBUG INFO) Executor start aborting (this does not indicate an error and you can ignore this message): INVALID_ARGUMENT: You must feed a value for placeholder tensor 'gradients/split_2_grad/concat/split_2/split_dim' with dtype int32\n",
      "\t [[{{node gradients/split_2_grad/concat/split_2/split_dim}}]]\n",
      "2023-05-05 17:03:27.987927: I tensorflow/core/common_runtime/executor.cc:1197] [/device:CPU:0] (DEBUG INFO) Executor start aborting (this does not indicate an error and you can ignore this message): INVALID_ARGUMENT: You must feed a value for placeholder tensor 'gradients/split_grad/concat/split/split_dim' with dtype int32\n",
      "\t [[{{node gradients/split_grad/concat/split/split_dim}}]]\n",
      "2023-05-05 17:03:27.988764: I tensorflow/core/common_runtime/executor.cc:1197] [/device:CPU:0] (DEBUG INFO) Executor start aborting (this does not indicate an error and you can ignore this message): INVALID_ARGUMENT: You must feed a value for placeholder tensor 'gradients/split_1_grad/concat/split_1/split_dim' with dtype int32\n",
      "\t [[{{node gradients/split_1_grad/concat/split_1/split_dim}}]]\n"
     ]
    }
   ],
   "source": [
    "MLmodel = tf.keras.Sequential([\n",
    "    tf.keras.layers.LSTM(150),\n",
    "    tf.keras.layers.Dropout(0.3),\n",
    "    tf.keras.layers.Dense(32, activation='relu'),\n",
    "    tf.keras.layers.Dropout(0.3),\n",
    "    tf.keras.layers.Dense(2, activation='softmax')\n",
    "])\n",
    "MLmodel.compile(loss='categorical_crossentropy', optimizer='adam', metrics=['accuracy'])\n",
    "MLmodel.build(input_shape=(None, 41, 300))\n",
    "MLmodel.summary()"
   ]
  },
  {
   "cell_type": "code",
   "execution_count": 31,
   "metadata": {},
   "outputs": [
    {
     "name": "stdout",
     "output_type": "stream",
     "text": [
      "Epoch 1/6\n"
     ]
    },
    {
     "name": "stderr",
     "output_type": "stream",
     "text": [
      "2023-05-05 17:03:28.305825: I tensorflow/core/common_runtime/executor.cc:1197] [/device:CPU:0] (DEBUG INFO) Executor start aborting (this does not indicate an error and you can ignore this message): INVALID_ARGUMENT: You must feed a value for placeholder tensor 'gradients/split_2_grad/concat/split_2/split_dim' with dtype int32\n",
      "\t [[{{node gradients/split_2_grad/concat/split_2/split_dim}}]]\n",
      "2023-05-05 17:03:28.307355: I tensorflow/core/common_runtime/executor.cc:1197] [/device:CPU:0] (DEBUG INFO) Executor start aborting (this does not indicate an error and you can ignore this message): INVALID_ARGUMENT: You must feed a value for placeholder tensor 'gradients/split_grad/concat/split/split_dim' with dtype int32\n",
      "\t [[{{node gradients/split_grad/concat/split/split_dim}}]]\n",
      "2023-05-05 17:03:28.308561: I tensorflow/core/common_runtime/executor.cc:1197] [/device:CPU:0] (DEBUG INFO) Executor start aborting (this does not indicate an error and you can ignore this message): INVALID_ARGUMENT: You must feed a value for placeholder tensor 'gradients/split_1_grad/concat/split_1/split_dim' with dtype int32\n",
      "\t [[{{node gradients/split_1_grad/concat/split_1/split_dim}}]]\n",
      "2023-05-05 17:03:28.793266: I tensorflow/core/common_runtime/executor.cc:1197] [/device:CPU:0] (DEBUG INFO) Executor start aborting (this does not indicate an error and you can ignore this message): INVALID_ARGUMENT: You must feed a value for placeholder tensor 'gradients/split_2_grad/concat/split_2/split_dim' with dtype int32\n",
      "\t [[{{node gradients/split_2_grad/concat/split_2/split_dim}}]]\n",
      "2023-05-05 17:03:28.794436: I tensorflow/core/common_runtime/executor.cc:1197] [/device:CPU:0] (DEBUG INFO) Executor start aborting (this does not indicate an error and you can ignore this message): INVALID_ARGUMENT: You must feed a value for placeholder tensor 'gradients/split_grad/concat/split/split_dim' with dtype int32\n",
      "\t [[{{node gradients/split_grad/concat/split/split_dim}}]]\n",
      "2023-05-05 17:03:28.795304: I tensorflow/core/common_runtime/executor.cc:1197] [/device:CPU:0] (DEBUG INFO) Executor start aborting (this does not indicate an error and you can ignore this message): INVALID_ARGUMENT: You must feed a value for placeholder tensor 'gradients/split_1_grad/concat/split_1/split_dim' with dtype int32\n",
      "\t [[{{node gradients/split_1_grad/concat/split_1/split_dim}}]]\n"
     ]
    },
    {
     "name": "stdout",
     "output_type": "stream",
     "text": [
      "104/104 [==============================] - 3s 18ms/step - loss: 0.5817 - accuracy: 0.6964\n",
      "Epoch 2/6\n",
      "104/104 [==============================] - 2s 18ms/step - loss: 0.5015 - accuracy: 0.7758\n",
      "Epoch 3/6\n",
      "104/104 [==============================] - 2s 18ms/step - loss: 0.4598 - accuracy: 0.7978\n",
      "Epoch 4/6\n",
      "104/104 [==============================] - 2s 18ms/step - loss: 0.4543 - accuracy: 0.8051\n",
      "Epoch 5/6\n",
      "104/104 [==============================] - 2s 18ms/step - loss: 0.4276 - accuracy: 0.8174\n",
      "Epoch 6/6\n",
      "104/104 [==============================] - 2s 18ms/step - loss: 0.4145 - accuracy: 0.8229\n"
     ]
    },
    {
     "data": {
      "text/plain": [
       "<keras.callbacks.History at 0x7f69000d5eb0>"
      ]
     },
     "execution_count": 31,
     "metadata": {},
     "output_type": "execute_result"
    }
   ],
   "source": [
    "num_epochs = 6\n",
    "MLmodel.fit(X_train_tensor, Y_train_tensor, epochs=num_epochs)"
   ]
  },
  {
   "cell_type": "code",
   "execution_count": 32,
   "metadata": {},
   "outputs": [],
   "source": [
    "accuracy = MLmodel.history.history[\"accuracy\"]\n"
   ]
  },
  {
   "cell_type": "code",
   "execution_count": 33,
   "metadata": {},
   "outputs": [],
   "source": [
    "loss = MLmodel.history.history[\"loss\"]\n"
   ]
  },
  {
   "cell_type": "code",
   "execution_count": 34,
   "metadata": {},
   "outputs": [],
   "source": [
    "import matplotlib.pyplot as plt\n"
   ]
  },
  {
   "cell_type": "code",
   "execution_count": 35,
   "metadata": {},
   "outputs": [
    {
     "data": {
      "image/png": "[encoded data removed]",
      "text/plain": [
       "<Figure size 640x480 with 1 Axes>"
      ]
     },
     "metadata": {},
     "output_type": "display_data"
    }
   ],
   "source": [
    "plt.plot(accuracy, label=\"accuracy\")\n",
    "\n",
    "plt.ylabel(\"Accuracy\")\n",
    "plt.xlabel(\"Epoch\")\n",
    "plt.legend()\n",
    "plt.show()\n"
   ]
  },
  {
   "cell_type": "code",
   "execution_count": 36,
   "metadata": {},
   "outputs": [
    {
     "data": {
      "image/png": "[encoded data removed]",
      "text/plain": [
       "<Figure size 640x480 with 1 Axes>"
      ]
     },
     "metadata": {},
     "output_type": "display_data"
    }
   ],
   "source": [
    "plt.plot(loss, label=\"loss\")\n",
    "plt.ylabel(\"Loss\")\n",
    "plt.xlabel(\"Epoch\")\n",
    "plt.legend()\n",
    "plt.show()"
   ]
  },
  {
   "cell_type": "code",
   "execution_count": 37,
   "metadata": {},
   "outputs": [
    {
     "name": "stdout",
     "output_type": "stream",
     "text": [
      " 8/31 [======>.......................] - ETA: 0s"
     ]
    },
    {
     "name": "stderr",
     "output_type": "stream",
     "text": [
      "2023-05-05 17:03:42.077650: I tensorflow/core/common_runtime/executor.cc:1197] [/device:CPU:0] (DEBUG INFO) Executor start aborting (this does not indicate an error and you can ignore this message): INVALID_ARGUMENT: You must feed a value for placeholder tensor 'gradients/split_2_grad/concat/split_2/split_dim' with dtype int32\n",
      "\t [[{{node gradients/split_2_grad/concat/split_2/split_dim}}]]\n",
      "2023-05-05 17:03:42.078891: I tensorflow/core/common_runtime/executor.cc:1197] [/device:CPU:0] (DEBUG INFO) Executor start aborting (this does not indicate an error and you can ignore this message): INVALID_ARGUMENT: You must feed a value for placeholder tensor 'gradients/split_grad/concat/split/split_dim' with dtype int32\n",
      "\t [[{{node gradients/split_grad/concat/split/split_dim}}]]\n",
      "2023-05-05 17:03:42.079658: I tensorflow/core/common_runtime/executor.cc:1197] [/device:CPU:0] (DEBUG INFO) Executor start aborting (this does not indicate an error and you can ignore this message): INVALID_ARGUMENT: You must feed a value for placeholder tensor 'gradients/split_1_grad/concat/split_1/split_dim' with dtype int32\n",
      "\t [[{{node gradients/split_1_grad/concat/split_1/split_dim}}]]\n"
     ]
    },
    {
     "name": "stdout",
     "output_type": "stream",
     "text": [
      "31/31 [==============================] - 0s 8ms/step\n"
     ]
    }
   ],
   "source": [
    "y_pred = MLmodel.predict(X_test_tensor)"
   ]
  },
  {
   "cell_type": "code",
   "execution_count": 38,
   "metadata": {
    "collapsed": true,
    "jupyter": {
     "outputs_hidden": true
    },
    "tags": []
   },
   "outputs": [
    {
     "data": {
      "text/plain": [
       "array([[0.2344103 , 0.7655896 ],\n",
       "       [0.79255366, 0.20744628],\n",
       "       [0.01477528, 0.9852247 ],\n",
       "       ...,\n",
       "       [0.79144144, 0.20855854],\n",
       "       [0.6875574 , 0.3124426 ],\n",
       "       [0.72730964, 0.2726904 ]], dtype=float32)"
      ]
     },
     "execution_count": 38,
     "metadata": {},
     "output_type": "execute_result"
    }
   ],
   "source": [
    "y_pred"
   ]
  },
  {
   "cell_type": "code",
   "execution_count": 39,
   "metadata": {},
   "outputs": [],
   "source": [
    "final=[]\n",
    "for row in y_pred:\n",
    "    if row[0]>row[1]:\n",
    "        final.append(\"YES\")\n",
    "    else:\n",
    "        final.append(\"NO\")"
   ]
  },
  {
   "cell_type": "code",
   "execution_count": 40,
   "metadata": {},
   "outputs": [
    {
     "name": "stdout",
     "output_type": "stream",
     "text": [
      "Shape of y_pred: 978\n"
     ]
    }
   ],
   "source": [
    "print('Shape of y_pred:', len(final))"
   ]
  },
  {
   "cell_type": "code",
   "execution_count": 41,
   "metadata": {},
   "outputs": [],
   "source": [
    "result_dict = {}\n",
    "val_id=validation['id_EXIST'].to_list() \n",
    "for i in range(978):\n",
    "    \n",
    "\n",
    "    temp={\"hard_label\":final[i]}\n",
    "    result_dict[val_id[i]]=temp\n",
    "    "
   ]
  },
  {
   "cell_type": "code",
   "execution_count": 42,
   "metadata": {},
   "outputs": [],
   "source": [
    "myKeys = list(result_dict.keys())\n",
    "myKeys.sort()\n",
    "result = {i: result_dict[i] for i in myKeys}\n",
    " "
   ]
  },
  {
   "cell_type": "code",
   "execution_count": 43,
   "metadata": {},
   "outputs": [],
   "source": [
    "import json\n",
    "\n",
    "result_json = json.dumps(result)"
   ]
  },
  {
   "cell_type": "code",
   "execution_count": 44,
   "metadata": {},
   "outputs": [
    {
     "data": {
      "text/plain": [
       "'{\"600001\": {\"hard_label\": \"NO\"}, \"600002\": {\"hard_label\": \"YES\"}, \"600003\": {\"hard_label\": \"NO\"}, \"600004\": {\"hard_label\": \"NO\"}, \"600005\": {\"hard_label\": \"YES\"}, \"600006\": {\"hard_label\": \"NO\"}, \"600007\": {\"hard_label\": \"NO\"}, \"600008\": {\"hard_label\": \"NO\"}, \"600009\": {\"hard_label\": \"NO\"}, \"600010\": {\"hard_label\": \"YES\"}, \"600011\": {\"hard_label\": \"NO\"}, \"600012\": {\"hard_label\": \"NO\"}, \"600013\": {\"hard_label\": \"YES\"}, \"600014\": {\"hard_label\": \"NO\"}, \"600015\": {\"hard_label\": \"YES\"}, \"600016\": {\"hard_label\": \"NO\"}, \"600017\": {\"hard_label\": \"NO\"}, \"600018\": {\"hard_label\": \"NO\"}, \"600019\": {\"hard_label\": \"YES\"}, \"600020\": {\"hard_label\": \"YES\"}, \"600021\": {\"hard_label\": \"YES\"}, \"600022\": {\"hard_label\": \"NO\"}, \"600023\": {\"hard_label\": \"YES\"}, \"600024\": {\"hard_label\": \"NO\"}, \"600025\": {\"hard_label\": \"NO\"}, \"600026\": {\"hard_label\": \"YES\"}, \"600027\": {\"hard_label\": \"YES\"}, \"600028\": {\"hard_label\": \"NO\"}, \"600029\": {\"hard_label\": \"YES\"}, \"600030\": {\"hard_label\": \"YES\"}, \"600031\": {\"hard_label\": \"YES\"}, \"600032\": {\"hard_label\": \"NO\"}, \"600033\": {\"hard_label\": \"YES\"}, \"600034\": {\"hard_label\": \"NO\"}, \"600035\": {\"hard_label\": \"YES\"}, \"600036\": {\"hard_label\": \"NO\"}, \"600037\": {\"hard_label\": \"NO\"}, \"600038\": {\"hard_label\": \"NO\"}, \"600039\": {\"hard_label\": \"NO\"}, \"600040\": {\"hard_label\": \"NO\"}, \"600041\": {\"hard_label\": \"NO\"}, \"600042\": {\"hard_label\": \"NO\"}, \"600043\": {\"hard_label\": \"NO\"}, \"600044\": {\"hard_label\": \"NO\"}, \"600045\": {\"hard_label\": \"NO\"}, \"600046\": {\"hard_label\": \"YES\"}, \"600047\": {\"hard_label\": \"NO\"}, \"600048\": {\"hard_label\": \"YES\"}, \"600049\": {\"hard_label\": \"NO\"}, \"600050\": {\"hard_label\": \"YES\"}, \"600051\": {\"hard_label\": \"NO\"}, \"600052\": {\"hard_label\": \"NO\"}, \"600053\": {\"hard_label\": \"NO\"}, \"600054\": {\"hard_label\": \"YES\"}, \"600055\": {\"hard_label\": \"NO\"}, \"600056\": {\"hard_label\": \"YES\"}, \"600057\": {\"hard_label\": \"YES\"}, \"600058\": {\"hard_label\": \"NO\"}, \"600059\": {\"hard_label\": \"YES\"}, \"600060\": {\"hard_label\": \"NO\"}, \"600061\": {\"hard_label\": \"YES\"}, \"600062\": {\"hard_label\": \"YES\"}, \"600063\": {\"hard_label\": \"YES\"}, \"600064\": {\"hard_label\": \"YES\"}, \"600065\": {\"hard_label\": \"NO\"}, \"600066\": {\"hard_label\": \"YES\"}, \"600067\": {\"hard_label\": \"NO\"}, \"600068\": {\"hard_label\": \"YES\"}, \"600069\": {\"hard_label\": \"YES\"}, \"600070\": {\"hard_label\": \"NO\"}, \"600071\": {\"hard_label\": \"NO\"}, \"600072\": {\"hard_label\": \"NO\"}, \"600073\": {\"hard_label\": \"NO\"}, \"600074\": {\"hard_label\": \"NO\"}, \"600075\": {\"hard_label\": \"YES\"}, \"600076\": {\"hard_label\": \"YES\"}, \"600077\": {\"hard_label\": \"NO\"}, \"600078\": {\"hard_label\": \"NO\"}, \"600079\": {\"hard_label\": \"NO\"}, \"600080\": {\"hard_label\": \"NO\"}, \"600081\": {\"hard_label\": \"NO\"}, \"600082\": {\"hard_label\": \"YES\"}, \"600083\": {\"hard_label\": \"NO\"}, \"600084\": {\"hard_label\": \"NO\"}, \"600085\": {\"hard_label\": \"YES\"}, \"600086\": {\"hard_label\": \"NO\"}, \"600087\": {\"hard_label\": \"YES\"}, \"600088\": {\"hard_label\": \"YES\"}, \"600089\": {\"hard_label\": \"YES\"}, \"600090\": {\"hard_label\": \"YES\"}, \"600091\": {\"hard_label\": \"NO\"}, \"600092\": {\"hard_label\": \"NO\"}, \"600093\": {\"hard_label\": \"NO\"}, \"600094\": {\"hard_label\": \"YES\"}, \"600095\": {\"hard_label\": \"YES\"}, \"600096\": {\"hard_label\": \"NO\"}, \"600097\": {\"hard_label\": \"NO\"}, \"600098\": {\"hard_label\": \"YES\"}, \"600099\": {\"hard_label\": \"NO\"}, \"600100\": {\"hard_label\": \"NO\"}, \"600101\": {\"hard_label\": \"NO\"}, \"600102\": {\"hard_label\": \"NO\"}, \"600103\": {\"hard_label\": \"NO\"}, \"600104\": {\"hard_label\": \"NO\"}, \"600105\": {\"hard_label\": \"NO\"}, \"600106\": {\"hard_label\": \"NO\"}, \"600107\": {\"hard_label\": \"NO\"}, \"600108\": {\"hard_label\": \"NO\"}, \"600109\": {\"hard_label\": \"NO\"}, \"600110\": {\"hard_label\": \"NO\"}, \"600111\": {\"hard_label\": \"NO\"}, \"600112\": {\"hard_label\": \"NO\"}, \"600113\": {\"hard_label\": \"YES\"}, \"600114\": {\"hard_label\": \"NO\"}, \"600115\": {\"hard_label\": \"NO\"}, \"600116\": {\"hard_label\": \"NO\"}, \"600117\": {\"hard_label\": \"NO\"}, \"600118\": {\"hard_label\": \"NO\"}, \"600119\": {\"hard_label\": \"NO\"}, \"600120\": {\"hard_label\": \"NO\"}, \"600121\": {\"hard_label\": \"YES\"}, \"600122\": {\"hard_label\": \"YES\"}, \"600123\": {\"hard_label\": \"NO\"}, \"600124\": {\"hard_label\": \"YES\"}, \"600125\": {\"hard_label\": \"NO\"}, \"600126\": {\"hard_label\": \"YES\"}, \"600127\": {\"hard_label\": \"YES\"}, \"600128\": {\"hard_label\": \"NO\"}, \"600129\": {\"hard_label\": \"YES\"}, \"600130\": {\"hard_label\": \"NO\"}, \"600131\": {\"hard_label\": \"YES\"}, \"600132\": {\"hard_label\": \"YES\"}, \"600133\": {\"hard_label\": \"YES\"}, \"600134\": {\"hard_label\": \"YES\"}, \"600135\": {\"hard_label\": \"YES\"}, \"600136\": {\"hard_label\": \"YES\"}, \"600137\": {\"hard_label\": \"YES\"}, \"600138\": {\"hard_label\": \"YES\"}, \"600139\": {\"hard_label\": \"NO\"}, \"600140\": {\"hard_label\": \"NO\"}, \"600141\": {\"hard_label\": \"NO\"}, \"600142\": {\"hard_label\": \"NO\"}, \"600143\": {\"hard_label\": \"NO\"}, \"600144\": {\"hard_label\": \"NO\"}, \"600145\": {\"hard_label\": \"NO\"}, \"600146\": {\"hard_label\": \"YES\"}, \"600147\": {\"hard_label\": \"YES\"}, \"600148\": {\"hard_label\": \"NO\"}, \"600149\": {\"hard_label\": \"YES\"}, \"600150\": {\"hard_label\": \"NO\"}, \"600151\": {\"hard_label\": \"YES\"}, \"600152\": {\"hard_label\": \"YES\"}, \"600153\": {\"hard_label\": \"YES\"}, \"600154\": {\"hard_label\": \"YES\"}, \"600155\": {\"hard_label\": \"YES\"}, \"600156\": {\"hard_label\": \"NO\"}, \"600157\": {\"hard_label\": \"YES\"}, \"600158\": {\"hard_label\": \"YES\"}, \"600159\": {\"hard_label\": \"YES\"}, \"600160\": {\"hard_label\": \"NO\"}, \"600161\": {\"hard_label\": \"NO\"}, \"600162\": {\"hard_label\": \"YES\"}, \"600163\": {\"hard_label\": \"NO\"}, \"600164\": {\"hard_label\": \"NO\"}, \"600165\": {\"hard_label\": \"NO\"}, \"600166\": {\"hard_label\": \"NO\"}, \"600167\": {\"hard_label\": \"NO\"}, \"600168\": {\"hard_label\": \"NO\"}, \"600169\": {\"hard_label\": \"NO\"}, \"600170\": {\"hard_label\": \"NO\"}, \"600171\": {\"hard_label\": \"NO\"}, \"600172\": {\"hard_label\": \"NO\"}, \"600173\": {\"hard_label\": \"NO\"}, \"600174\": {\"hard_label\": \"NO\"}, \"600175\": {\"hard_label\": \"NO\"}, \"600176\": {\"hard_label\": \"NO\"}, \"600177\": {\"hard_label\": \"NO\"}, \"600178\": {\"hard_label\": \"NO\"}, \"600179\": {\"hard_label\": \"NO\"}, \"600180\": {\"hard_label\": \"NO\"}, \"600181\": {\"hard_label\": \"YES\"}, \"600182\": {\"hard_label\": \"YES\"}, \"600183\": {\"hard_label\": \"YES\"}, \"600184\": {\"hard_label\": \"NO\"}, \"600185\": {\"hard_label\": \"NO\"}, \"600186\": {\"hard_label\": \"YES\"}, \"600187\": {\"hard_label\": \"YES\"}, \"600188\": {\"hard_label\": \"NO\"}, \"600189\": {\"hard_label\": \"YES\"}, \"600190\": {\"hard_label\": \"YES\"}, \"600191\": {\"hard_label\": \"YES\"}, \"600192\": {\"hard_label\": \"YES\"}, \"600193\": {\"hard_label\": \"YES\"}, \"600194\": {\"hard_label\": \"YES\"}, \"600195\": {\"hard_label\": \"YES\"}, \"600196\": {\"hard_label\": \"YES\"}, \"600197\": {\"hard_label\": \"YES\"}, \"600198\": {\"hard_label\": \"YES\"}, \"600199\": {\"hard_label\": \"NO\"}, \"600200\": {\"hard_label\": \"NO\"}, \"600201\": {\"hard_label\": \"NO\"}, \"600202\": {\"hard_label\": \"NO\"}, \"600203\": {\"hard_label\": \"NO\"}, \"600204\": {\"hard_label\": \"NO\"}, \"600205\": {\"hard_label\": \"NO\"}, \"600206\": {\"hard_label\": \"NO\"}, \"600207\": {\"hard_label\": \"NO\"}, \"600208\": {\"hard_label\": \"NO\"}, \"600209\": {\"hard_label\": \"YES\"}, \"600210\": {\"hard_label\": \"NO\"}, \"600211\": {\"hard_label\": \"YES\"}, \"600212\": {\"hard_label\": \"YES\"}, \"600213\": {\"hard_label\": \"YES\"}, \"600214\": {\"hard_label\": \"YES\"}, \"600215\": {\"hard_label\": \"YES\"}, \"600216\": {\"hard_label\": \"YES\"}, \"600217\": {\"hard_label\": \"NO\"}, \"600218\": {\"hard_label\": \"YES\"}, \"600219\": {\"hard_label\": \"YES\"}, \"600220\": {\"hard_label\": \"NO\"}, \"600221\": {\"hard_label\": \"NO\"}, \"600222\": {\"hard_label\": \"NO\"}, \"600223\": {\"hard_label\": \"YES\"}, \"600224\": {\"hard_label\": \"YES\"}, \"600225\": {\"hard_label\": \"NO\"}, \"600226\": {\"hard_label\": \"NO\"}, \"600227\": {\"hard_label\": \"YES\"}, \"600228\": {\"hard_label\": \"NO\"}, \"600229\": {\"hard_label\": \"NO\"}, \"600230\": {\"hard_label\": \"NO\"}, \"600231\": {\"hard_label\": \"NO\"}, \"600232\": {\"hard_label\": \"NO\"}, \"600233\": {\"hard_label\": \"NO\"}, \"600234\": {\"hard_label\": \"NO\"}, \"600235\": {\"hard_label\": \"YES\"}, \"600236\": {\"hard_label\": \"NO\"}, \"600237\": {\"hard_label\": \"YES\"}, \"600238\": {\"hard_label\": \"YES\"}, \"600239\": {\"hard_label\": \"YES\"}, \"600240\": {\"hard_label\": \"YES\"}, \"600241\": {\"hard_label\": \"NO\"}, \"600242\": {\"hard_label\": \"YES\"}, \"600243\": {\"hard_label\": \"YES\"}, \"600244\": {\"hard_label\": \"NO\"}, \"600245\": {\"hard_label\": \"NO\"}, \"600246\": {\"hard_label\": \"NO\"}, \"600247\": {\"hard_label\": \"NO\"}, \"600248\": {\"hard_label\": \"YES\"}, \"600249\": {\"hard_label\": \"YES\"}, \"600250\": {\"hard_label\": \"YES\"}, \"600251\": {\"hard_label\": \"YES\"}, \"600252\": {\"hard_label\": \"YES\"}, \"600253\": {\"hard_label\": \"YES\"}, \"600254\": {\"hard_label\": \"YES\"}, \"600255\": {\"hard_label\": \"NO\"}, \"600256\": {\"hard_label\": \"NO\"}, \"600257\": {\"hard_label\": \"NO\"}, \"600258\": {\"hard_label\": \"NO\"}, \"600259\": {\"hard_label\": \"NO\"}, \"600260\": {\"hard_label\": \"NO\"}, \"600261\": {\"hard_label\": \"NO\"}, \"600262\": {\"hard_label\": \"NO\"}, \"600263\": {\"hard_label\": \"NO\"}, \"600264\": {\"hard_label\": \"NO\"}, \"600265\": {\"hard_label\": \"YES\"}, \"600266\": {\"hard_label\": \"YES\"}, \"600267\": {\"hard_label\": \"YES\"}, \"600268\": {\"hard_label\": \"YES\"}, \"600269\": {\"hard_label\": \"YES\"}, \"600270\": {\"hard_label\": \"NO\"}, \"600271\": {\"hard_label\": \"NO\"}, \"600272\": {\"hard_label\": \"NO\"}, \"600273\": {\"hard_label\": \"NO\"}, \"600274\": {\"hard_label\": \"NO\"}, \"600275\": {\"hard_label\": \"NO\"}, \"600276\": {\"hard_label\": \"NO\"}, \"600277\": {\"hard_label\": \"NO\"}, \"600278\": {\"hard_label\": \"NO\"}, \"600279\": {\"hard_label\": \"YES\"}, \"600280\": {\"hard_label\": \"YES\"}, \"600281\": {\"hard_label\": \"YES\"}, \"600282\": {\"hard_label\": \"NO\"}, \"600283\": {\"hard_label\": \"NO\"}, \"600284\": {\"hard_label\": \"NO\"}, \"600285\": {\"hard_label\": \"NO\"}, \"600286\": {\"hard_label\": \"NO\"}, \"600287\": {\"hard_label\": \"NO\"}, \"600288\": {\"hard_label\": \"NO\"}, \"600289\": {\"hard_label\": \"NO\"}, \"600290\": {\"hard_label\": \"YES\"}, \"600291\": {\"hard_label\": \"NO\"}, \"600292\": {\"hard_label\": \"NO\"}, \"600293\": {\"hard_label\": \"NO\"}, \"600294\": {\"hard_label\": \"NO\"}, \"600295\": {\"hard_label\": \"NO\"}, \"600296\": {\"hard_label\": \"YES\"}, \"600297\": {\"hard_label\": \"NO\"}, \"600298\": {\"hard_label\": \"YES\"}, \"600299\": {\"hard_label\": \"YES\"}, \"600300\": {\"hard_label\": \"NO\"}, \"600301\": {\"hard_label\": \"YES\"}, \"600302\": {\"hard_label\": \"YES\"}, \"600303\": {\"hard_label\": \"YES\"}, \"600304\": {\"hard_label\": \"NO\"}, \"600305\": {\"hard_label\": \"NO\"}, \"600306\": {\"hard_label\": \"NO\"}, \"600307\": {\"hard_label\": \"NO\"}, \"600308\": {\"hard_label\": \"NO\"}, \"600309\": {\"hard_label\": \"NO\"}, \"600310\": {\"hard_label\": \"NO\"}, \"600311\": {\"hard_label\": \"YES\"}, \"600312\": {\"hard_label\": \"NO\"}, \"600313\": {\"hard_label\": \"YES\"}, \"600314\": {\"hard_label\": \"YES\"}, \"600315\": {\"hard_label\": \"NO\"}, \"600316\": {\"hard_label\": \"YES\"}, \"600317\": {\"hard_label\": \"YES\"}, \"600318\": {\"hard_label\": \"NO\"}, \"600319\": {\"hard_label\": \"YES\"}, \"600320\": {\"hard_label\": \"NO\"}, \"600321\": {\"hard_label\": \"NO\"}, \"600322\": {\"hard_label\": \"YES\"}, \"600323\": {\"hard_label\": \"YES\"}, \"600324\": {\"hard_label\": \"YES\"}, \"600325\": {\"hard_label\": \"NO\"}, \"600326\": {\"hard_label\": \"YES\"}, \"600327\": {\"hard_label\": \"YES\"}, \"600328\": {\"hard_label\": \"YES\"}, \"600329\": {\"hard_label\": \"YES\"}, \"600330\": {\"hard_label\": \"NO\"}, \"600331\": {\"hard_label\": \"NO\"}, \"600332\": {\"hard_label\": \"NO\"}, \"600333\": {\"hard_label\": \"YES\"}, \"600334\": {\"hard_label\": \"YES\"}, \"600335\": {\"hard_label\": \"YES\"}, \"600336\": {\"hard_label\": \"NO\"}, \"600337\": {\"hard_label\": \"NO\"}, \"600338\": {\"hard_label\": \"YES\"}, \"600339\": {\"hard_label\": \"YES\"}, \"600340\": {\"hard_label\": \"YES\"}, \"600341\": {\"hard_label\": \"NO\"}, \"600342\": {\"hard_label\": \"NO\"}, \"600343\": {\"hard_label\": \"YES\"}, \"600344\": {\"hard_label\": \"NO\"}, \"600345\": {\"hard_label\": \"YES\"}, \"600346\": {\"hard_label\": \"YES\"}, \"600347\": {\"hard_label\": \"NO\"}, \"600348\": {\"hard_label\": \"YES\"}, \"600349\": {\"hard_label\": \"NO\"}, \"600350\": {\"hard_label\": \"NO\"}, \"600351\": {\"hard_label\": \"YES\"}, \"600352\": {\"hard_label\": \"YES\"}, \"600353\": {\"hard_label\": \"NO\"}, \"600354\": {\"hard_label\": \"YES\"}, \"600355\": {\"hard_label\": \"YES\"}, \"600356\": {\"hard_label\": \"YES\"}, \"600357\": {\"hard_label\": \"NO\"}, \"600358\": {\"hard_label\": \"NO\"}, \"600359\": {\"hard_label\": \"NO\"}, \"600360\": {\"hard_label\": \"NO\"}, \"600361\": {\"hard_label\": \"YES\"}, \"600362\": {\"hard_label\": \"YES\"}, \"600363\": {\"hard_label\": \"YES\"}, \"600364\": {\"hard_label\": \"YES\"}, \"600365\": {\"hard_label\": \"YES\"}, \"600366\": {\"hard_label\": \"YES\"}, \"600367\": {\"hard_label\": \"YES\"}, \"600368\": {\"hard_label\": \"YES\"}, \"600369\": {\"hard_label\": \"NO\"}, \"600370\": {\"hard_label\": \"YES\"}, \"600371\": {\"hard_label\": \"YES\"}, \"600372\": {\"hard_label\": \"YES\"}, \"600373\": {\"hard_label\": \"NO\"}, \"600374\": {\"hard_label\": \"NO\"}, \"600375\": {\"hard_label\": \"YES\"}, \"600376\": {\"hard_label\": \"NO\"}, \"600377\": {\"hard_label\": \"NO\"}, \"600378\": {\"hard_label\": \"YES\"}, \"600379\": {\"hard_label\": \"NO\"}, \"600380\": {\"hard_label\": \"YES\"}, \"600381\": {\"hard_label\": \"NO\"}, \"600382\": {\"hard_label\": \"YES\"}, \"600383\": {\"hard_label\": \"NO\"}, \"600384\": {\"hard_label\": \"NO\"}, \"600385\": {\"hard_label\": \"NO\"}, \"600386\": {\"hard_label\": \"YES\"}, \"600387\": {\"hard_label\": \"YES\"}, \"600388\": {\"hard_label\": \"NO\"}, \"600389\": {\"hard_label\": \"YES\"}, \"600390\": {\"hard_label\": \"YES\"}, \"600391\": {\"hard_label\": \"NO\"}, \"600392\": {\"hard_label\": \"YES\"}, \"600393\": {\"hard_label\": \"YES\"}, \"600394\": {\"hard_label\": \"YES\"}, \"600395\": {\"hard_label\": \"YES\"}, \"600396\": {\"hard_label\": \"YES\"}, \"600397\": {\"hard_label\": \"NO\"}, \"600398\": {\"hard_label\": \"YES\"}, \"600399\": {\"hard_label\": \"YES\"}, \"600400\": {\"hard_label\": \"YES\"}, \"600401\": {\"hard_label\": \"NO\"}, \"600402\": {\"hard_label\": \"YES\"}, \"600403\": {\"hard_label\": \"YES\"}, \"600404\": {\"hard_label\": \"NO\"}, \"600405\": {\"hard_label\": \"NO\"}, \"600406\": {\"hard_label\": \"YES\"}, \"600407\": {\"hard_label\": \"NO\"}, \"600408\": {\"hard_label\": \"YES\"}, \"600409\": {\"hard_label\": \"NO\"}, \"600410\": {\"hard_label\": \"YES\"}, \"600411\": {\"hard_label\": \"NO\"}, \"600412\": {\"hard_label\": \"NO\"}, \"600413\": {\"hard_label\": \"NO\"}, \"600414\": {\"hard_label\": \"NO\"}, \"600415\": {\"hard_label\": \"NO\"}, \"600416\": {\"hard_label\": \"NO\"}, \"600417\": {\"hard_label\": \"YES\"}, \"600418\": {\"hard_label\": \"NO\"}, \"600419\": {\"hard_label\": \"NO\"}, \"600420\": {\"hard_label\": \"NO\"}, \"600421\": {\"hard_label\": \"NO\"}, \"600422\": {\"hard_label\": \"NO\"}, \"600423\": {\"hard_label\": \"NO\"}, \"600424\": {\"hard_label\": \"NO\"}, \"600425\": {\"hard_label\": \"NO\"}, \"600426\": {\"hard_label\": \"NO\"}, \"600427\": {\"hard_label\": \"NO\"}, \"600428\": {\"hard_label\": \"NO\"}, \"600429\": {\"hard_label\": \"NO\"}, \"600430\": {\"hard_label\": \"NO\"}, \"600431\": {\"hard_label\": \"NO\"}, \"600432\": {\"hard_label\": \"NO\"}, \"600433\": {\"hard_label\": \"YES\"}, \"600434\": {\"hard_label\": \"NO\"}, \"600435\": {\"hard_label\": \"NO\"}, \"600436\": {\"hard_label\": \"NO\"}, \"600437\": {\"hard_label\": \"NO\"}, \"600438\": {\"hard_label\": \"NO\"}, \"600439\": {\"hard_label\": \"YES\"}, \"600440\": {\"hard_label\": \"YES\"}, \"600441\": {\"hard_label\": \"YES\"}, \"600442\": {\"hard_label\": \"YES\"}, \"600443\": {\"hard_label\": \"YES\"}, \"600444\": {\"hard_label\": \"YES\"}, \"600445\": {\"hard_label\": \"YES\"}, \"600446\": {\"hard_label\": \"YES\"}, \"600447\": {\"hard_label\": \"YES\"}, \"600448\": {\"hard_label\": \"YES\"}, \"600449\": {\"hard_label\": \"YES\"}, \"600450\": {\"hard_label\": \"NO\"}, \"600451\": {\"hard_label\": \"YES\"}, \"600452\": {\"hard_label\": \"YES\"}, \"600453\": {\"hard_label\": \"YES\"}, \"600454\": {\"hard_label\": \"YES\"}, \"600455\": {\"hard_label\": \"YES\"}, \"600456\": {\"hard_label\": \"YES\"}, \"600457\": {\"hard_label\": \"YES\"}, \"600458\": {\"hard_label\": \"YES\"}, \"600459\": {\"hard_label\": \"YES\"}, \"600460\": {\"hard_label\": \"YES\"}, \"600461\": {\"hard_label\": \"YES\"}, \"600462\": {\"hard_label\": \"YES\"}, \"600463\": {\"hard_label\": \"NO\"}, \"600464\": {\"hard_label\": \"NO\"}, \"600465\": {\"hard_label\": \"NO\"}, \"600466\": {\"hard_label\": \"NO\"}, \"600467\": {\"hard_label\": \"NO\"}, \"600468\": {\"hard_label\": \"YES\"}, \"600469\": {\"hard_label\": \"NO\"}, \"600470\": {\"hard_label\": \"NO\"}, \"600471\": {\"hard_label\": \"YES\"}, \"600472\": {\"hard_label\": \"YES\"}, \"600473\": {\"hard_label\": \"YES\"}, \"600474\": {\"hard_label\": \"YES\"}, \"600475\": {\"hard_label\": \"NO\"}, \"600476\": {\"hard_label\": \"NO\"}, \"600477\": {\"hard_label\": \"YES\"}, \"600478\": {\"hard_label\": \"NO\"}, \"600479\": {\"hard_label\": \"YES\"}, \"600480\": {\"hard_label\": \"YES\"}, \"600481\": {\"hard_label\": \"YES\"}, \"600482\": {\"hard_label\": \"YES\"}, \"600483\": {\"hard_label\": \"YES\"}, \"600484\": {\"hard_label\": \"YES\"}, \"600485\": {\"hard_label\": \"YES\"}, \"600486\": {\"hard_label\": \"YES\"}, \"600487\": {\"hard_label\": \"YES\"}, \"600488\": {\"hard_label\": \"YES\"}, \"600489\": {\"hard_label\": \"YES\"}, \"600490\": {\"hard_label\": \"YES\"}, \"600491\": {\"hard_label\": \"YES\"}, \"600492\": {\"hard_label\": \"YES\"}, \"600493\": {\"hard_label\": \"YES\"}, \"600494\": {\"hard_label\": \"NO\"}, \"600495\": {\"hard_label\": \"YES\"}, \"600496\": {\"hard_label\": \"YES\"}, \"600497\": {\"hard_label\": \"YES\"}, \"600498\": {\"hard_label\": \"YES\"}, \"600499\": {\"hard_label\": \"NO\"}, \"600500\": {\"hard_label\": \"NO\"}, \"600501\": {\"hard_label\": \"YES\"}, \"600502\": {\"hard_label\": \"NO\"}, \"600503\": {\"hard_label\": \"NO\"}, \"600504\": {\"hard_label\": \"YES\"}, \"600505\": {\"hard_label\": \"YES\"}, \"600506\": {\"hard_label\": \"YES\"}, \"600507\": {\"hard_label\": \"YES\"}, \"600508\": {\"hard_label\": \"YES\"}, \"600509\": {\"hard_label\": \"YES\"}, \"600510\": {\"hard_label\": \"NO\"}, \"600511\": {\"hard_label\": \"YES\"}, \"600512\": {\"hard_label\": \"YES\"}, \"600513\": {\"hard_label\": \"NO\"}, \"600514\": {\"hard_label\": \"NO\"}, \"600515\": {\"hard_label\": \"NO\"}, \"600516\": {\"hard_label\": \"NO\"}, \"600517\": {\"hard_label\": \"NO\"}, \"600518\": {\"hard_label\": \"YES\"}, \"600519\": {\"hard_label\": \"YES\"}, \"600520\": {\"hard_label\": \"YES\"}, \"600521\": {\"hard_label\": \"NO\"}, \"600522\": {\"hard_label\": \"NO\"}, \"600523\": {\"hard_label\": \"NO\"}, \"600524\": {\"hard_label\": \"NO\"}, \"600525\": {\"hard_label\": \"NO\"}, \"600526\": {\"hard_label\": \"NO\"}, \"600527\": {\"hard_label\": \"NO\"}, \"600528\": {\"hard_label\": \"NO\"}, \"600529\": {\"hard_label\": \"YES\"}, \"600530\": {\"hard_label\": \"YES\"}, \"600531\": {\"hard_label\": \"YES\"}, \"600532\": {\"hard_label\": \"YES\"}, \"600533\": {\"hard_label\": \"YES\"}, \"600534\": {\"hard_label\": \"YES\"}, \"600535\": {\"hard_label\": \"YES\"}, \"600536\": {\"hard_label\": \"YES\"}, \"600537\": {\"hard_label\": \"YES\"}, \"600538\": {\"hard_label\": \"YES\"}, \"600539\": {\"hard_label\": \"YES\"}, \"600540\": {\"hard_label\": \"YES\"}, \"600541\": {\"hard_label\": \"NO\"}, \"600542\": {\"hard_label\": \"YES\"}, \"600543\": {\"hard_label\": \"YES\"}, \"600544\": {\"hard_label\": \"YES\"}, \"600545\": {\"hard_label\": \"YES\"}, \"600546\": {\"hard_label\": \"YES\"}, \"600547\": {\"hard_label\": \"NO\"}, \"600548\": {\"hard_label\": \"YES\"}, \"600549\": {\"hard_label\": \"YES\"}, \"600550\": {\"hard_label\": \"YES\"}, \"600551\": {\"hard_label\": \"YES\"}, \"600552\": {\"hard_label\": \"YES\"}, \"600553\": {\"hard_label\": \"YES\"}, \"600554\": {\"hard_label\": \"YES\"}, \"600555\": {\"hard_label\": \"NO\"}, \"600556\": {\"hard_label\": \"NO\"}, \"600557\": {\"hard_label\": \"NO\"}, \"600558\": {\"hard_label\": \"YES\"}, \"600559\": {\"hard_label\": \"NO\"}, \"600560\": {\"hard_label\": \"NO\"}, \"600561\": {\"hard_label\": \"NO\"}, \"600562\": {\"hard_label\": \"NO\"}, \"600563\": {\"hard_label\": \"NO\"}, \"600564\": {\"hard_label\": \"NO\"}, \"600565\": {\"hard_label\": \"NO\"}, \"600566\": {\"hard_label\": \"NO\"}, \"600567\": {\"hard_label\": \"NO\"}, \"600568\": {\"hard_label\": \"NO\"}, \"600569\": {\"hard_label\": \"NO\"}, \"600570\": {\"hard_label\": \"NO\"}, \"600571\": {\"hard_label\": \"YES\"}, \"600572\": {\"hard_label\": \"YES\"}, \"600573\": {\"hard_label\": \"NO\"}, \"600574\": {\"hard_label\": \"YES\"}, \"600575\": {\"hard_label\": \"YES\"}, \"600576\": {\"hard_label\": \"NO\"}, \"600577\": {\"hard_label\": \"NO\"}, \"600578\": {\"hard_label\": \"NO\"}, \"600579\": {\"hard_label\": \"NO\"}, \"600580\": {\"hard_label\": \"NO\"}, \"600581\": {\"hard_label\": \"NO\"}, \"600582\": {\"hard_label\": \"NO\"}, \"600583\": {\"hard_label\": \"YES\"}, \"600584\": {\"hard_label\": \"NO\"}, \"600585\": {\"hard_label\": \"YES\"}, \"600586\": {\"hard_label\": \"YES\"}, \"600587\": {\"hard_label\": \"YES\"}, \"600588\": {\"hard_label\": \"YES\"}, \"600589\": {\"hard_label\": \"YES\"}, \"600590\": {\"hard_label\": \"YES\"}, \"600591\": {\"hard_label\": \"YES\"}, \"600592\": {\"hard_label\": \"YES\"}, \"600593\": {\"hard_label\": \"NO\"}, \"600594\": {\"hard_label\": \"NO\"}, \"600595\": {\"hard_label\": \"NO\"}, \"600596\": {\"hard_label\": \"NO\"}, \"600597\": {\"hard_label\": \"NO\"}, \"600598\": {\"hard_label\": \"YES\"}, \"600599\": {\"hard_label\": \"NO\"}, \"600600\": {\"hard_label\": \"NO\"}, \"600601\": {\"hard_label\": \"YES\"}, \"600602\": {\"hard_label\": \"NO\"}, \"600603\": {\"hard_label\": \"YES\"}, \"600604\": {\"hard_label\": \"NO\"}, \"600605\": {\"hard_label\": \"NO\"}, \"600606\": {\"hard_label\": \"NO\"}, \"600607\": {\"hard_label\": \"NO\"}, \"600608\": {\"hard_label\": \"YES\"}, \"600609\": {\"hard_label\": \"NO\"}, \"600610\": {\"hard_label\": \"NO\"}, \"600611\": {\"hard_label\": \"YES\"}, \"600612\": {\"hard_label\": \"YES\"}, \"600613\": {\"hard_label\": \"YES\"}, \"600614\": {\"hard_label\": \"NO\"}, \"600615\": {\"hard_label\": \"YES\"}, \"600616\": {\"hard_label\": \"YES\"}, \"600617\": {\"hard_label\": \"NO\"}, \"600618\": {\"hard_label\": \"NO\"}, \"600619\": {\"hard_label\": \"YES\"}, \"600620\": {\"hard_label\": \"NO\"}, \"600621\": {\"hard_label\": \"NO\"}, \"600622\": {\"hard_label\": \"NO\"}, \"600623\": {\"hard_label\": \"NO\"}, \"600624\": {\"hard_label\": \"NO\"}, \"600625\": {\"hard_label\": \"NO\"}, \"600626\": {\"hard_label\": \"NO\"}, \"600627\": {\"hard_label\": \"NO\"}, \"600628\": {\"hard_label\": \"NO\"}, \"600629\": {\"hard_label\": \"NO\"}, \"600630\": {\"hard_label\": \"NO\"}, \"600631\": {\"hard_label\": \"NO\"}, \"600632\": {\"hard_label\": \"NO\"}, \"600633\": {\"hard_label\": \"NO\"}, \"600634\": {\"hard_label\": \"NO\"}, \"600635\": {\"hard_label\": \"NO\"}, \"600636\": {\"hard_label\": \"NO\"}, \"600637\": {\"hard_label\": \"NO\"}, \"600638\": {\"hard_label\": \"YES\"}, \"600639\": {\"hard_label\": \"NO\"}, \"600640\": {\"hard_label\": \"NO\"}, \"600641\": {\"hard_label\": \"YES\"}, \"600642\": {\"hard_label\": \"NO\"}, \"600643\": {\"hard_label\": \"NO\"}, \"600644\": {\"hard_label\": \"YES\"}, \"600645\": {\"hard_label\": \"YES\"}, \"600646\": {\"hard_label\": \"NO\"}, \"600647\": {\"hard_label\": \"NO\"}, \"600648\": {\"hard_label\": \"YES\"}, \"600649\": {\"hard_label\": \"NO\"}, \"600650\": {\"hard_label\": \"NO\"}, \"600651\": {\"hard_label\": \"NO\"}, \"600652\": {\"hard_label\": \"NO\"}, \"600653\": {\"hard_label\": \"NO\"}, \"600654\": {\"hard_label\": \"NO\"}, \"600655\": {\"hard_label\": \"YES\"}, \"600656\": {\"hard_label\": \"YES\"}, \"600657\": {\"hard_label\": \"NO\"}, \"600658\": {\"hard_label\": \"YES\"}, \"600659\": {\"hard_label\": \"YES\"}, \"600660\": {\"hard_label\": \"NO\"}, \"600661\": {\"hard_label\": \"NO\"}, \"600662\": {\"hard_label\": \"NO\"}, \"600663\": {\"hard_label\": \"NO\"}, \"600664\": {\"hard_label\": \"YES\"}, \"600665\": {\"hard_label\": \"NO\"}, \"600666\": {\"hard_label\": \"YES\"}, \"600667\": {\"hard_label\": \"NO\"}, \"600668\": {\"hard_label\": \"NO\"}, \"600669\": {\"hard_label\": \"NO\"}, \"600670\": {\"hard_label\": \"NO\"}, \"600671\": {\"hard_label\": \"NO\"}, \"600672\": {\"hard_label\": \"NO\"}, \"600673\": {\"hard_label\": \"YES\"}, \"600674\": {\"hard_label\": \"YES\"}, \"600675\": {\"hard_label\": \"YES\"}, \"600676\": {\"hard_label\": \"NO\"}, \"600677\": {\"hard_label\": \"NO\"}, \"600678\": {\"hard_label\": \"NO\"}, \"600679\": {\"hard_label\": \"YES\"}, \"600680\": {\"hard_label\": \"YES\"}, \"600681\": {\"hard_label\": \"YES\"}, \"600682\": {\"hard_label\": \"YES\"}, \"600683\": {\"hard_label\": \"YES\"}, \"600684\": {\"hard_label\": \"YES\"}, \"600685\": {\"hard_label\": \"YES\"}, \"600686\": {\"hard_label\": \"YES\"}, \"600687\": {\"hard_label\": \"YES\"}, \"600688\": {\"hard_label\": \"YES\"}, \"600689\": {\"hard_label\": \"YES\"}, \"600690\": {\"hard_label\": \"NO\"}, \"600691\": {\"hard_label\": \"NO\"}, \"600692\": {\"hard_label\": \"NO\"}, \"600693\": {\"hard_label\": \"NO\"}, \"600694\": {\"hard_label\": \"NO\"}, \"600695\": {\"hard_label\": \"NO\"}, \"600696\": {\"hard_label\": \"NO\"}, \"600697\": {\"hard_label\": \"NO\"}, \"600698\": {\"hard_label\": \"NO\"}, \"600699\": {\"hard_label\": \"NO\"}, \"600700\": {\"hard_label\": \"NO\"}, \"600701\": {\"hard_label\": \"NO\"}, \"600702\": {\"hard_label\": \"NO\"}, \"600703\": {\"hard_label\": \"NO\"}, \"600704\": {\"hard_label\": \"YES\"}, \"600705\": {\"hard_label\": \"NO\"}, \"600706\": {\"hard_label\": \"NO\"}, \"600707\": {\"hard_label\": \"NO\"}, \"600708\": {\"hard_label\": \"NO\"}, \"600709\": {\"hard_label\": \"NO\"}, \"600710\": {\"hard_label\": \"NO\"}, \"600711\": {\"hard_label\": \"NO\"}, \"600712\": {\"hard_label\": \"NO\"}, \"600713\": {\"hard_label\": \"NO\"}, \"600714\": {\"hard_label\": \"NO\"}, \"600715\": {\"hard_label\": \"YES\"}, \"600716\": {\"hard_label\": \"YES\"}, \"600717\": {\"hard_label\": \"YES\"}, \"600718\": {\"hard_label\": \"NO\"}, \"600719\": {\"hard_label\": \"NO\"}, \"600720\": {\"hard_label\": \"NO\"}, \"600721\": {\"hard_label\": \"NO\"}, \"600722\": {\"hard_label\": \"NO\"}, \"600723\": {\"hard_label\": \"NO\"}, \"600724\": {\"hard_label\": \"YES\"}, \"600725\": {\"hard_label\": \"NO\"}, \"600726\": {\"hard_label\": \"NO\"}, \"600727\": {\"hard_label\": \"NO\"}, \"600728\": {\"hard_label\": \"NO\"}, \"600729\": {\"hard_label\": \"YES\"}, \"600730\": {\"hard_label\": \"NO\"}, \"600731\": {\"hard_label\": \"YES\"}, \"600732\": {\"hard_label\": \"NO\"}, \"600733\": {\"hard_label\": \"NO\"}, \"600734\": {\"hard_label\": \"NO\"}, \"600735\": {\"hard_label\": \"YES\"}, \"600736\": {\"hard_label\": \"YES\"}, \"600737\": {\"hard_label\": \"NO\"}, \"600738\": {\"hard_label\": \"NO\"}, \"600739\": {\"hard_label\": \"YES\"}, \"600740\": {\"hard_label\": \"YES\"}, \"600741\": {\"hard_label\": \"YES\"}, \"600742\": {\"hard_label\": \"YES\"}, \"600743\": {\"hard_label\": \"YES\"}, \"600744\": {\"hard_label\": \"YES\"}, \"600745\": {\"hard_label\": \"NO\"}, \"600746\": {\"hard_label\": \"NO\"}, \"600747\": {\"hard_label\": \"NO\"}, \"600748\": {\"hard_label\": \"YES\"}, \"600749\": {\"hard_label\": \"YES\"}, \"600750\": {\"hard_label\": \"NO\"}, \"600751\": {\"hard_label\": \"NO\"}, \"600752\": {\"hard_label\": \"NO\"}, \"600753\": {\"hard_label\": \"YES\"}, \"600754\": {\"hard_label\": \"NO\"}, \"600755\": {\"hard_label\": \"NO\"}, \"600756\": {\"hard_label\": \"NO\"}, \"600757\": {\"hard_label\": \"NO\"}, \"600758\": {\"hard_label\": \"YES\"}, \"600759\": {\"hard_label\": \"NO\"}, \"600760\": {\"hard_label\": \"NO\"}, \"600761\": {\"hard_label\": \"YES\"}, \"600762\": {\"hard_label\": \"NO\"}, \"600763\": {\"hard_label\": \"YES\"}, \"600764\": {\"hard_label\": \"YES\"}, \"600765\": {\"hard_label\": \"YES\"}, \"600766\": {\"hard_label\": \"YES\"}, \"600767\": {\"hard_label\": \"YES\"}, \"600768\": {\"hard_label\": \"YES\"}, \"600769\": {\"hard_label\": \"NO\"}, \"600770\": {\"hard_label\": \"NO\"}, \"600771\": {\"hard_label\": \"NO\"}, \"600772\": {\"hard_label\": \"NO\"}, \"600773\": {\"hard_label\": \"NO\"}, \"600774\": {\"hard_label\": \"NO\"}, \"600775\": {\"hard_label\": \"NO\"}, \"600776\": {\"hard_label\": \"NO\"}, \"600777\": {\"hard_label\": \"NO\"}, \"600778\": {\"hard_label\": \"NO\"}, \"600779\": {\"hard_label\": \"NO\"}, \"600780\": {\"hard_label\": \"YES\"}, \"600781\": {\"hard_label\": \"YES\"}, \"600782\": {\"hard_label\": \"NO\"}, \"600783\": {\"hard_label\": \"YES\"}, \"600784\": {\"hard_label\": \"NO\"}, \"600785\": {\"hard_label\": \"NO\"}, \"600786\": {\"hard_label\": \"NO\"}, \"600787\": {\"hard_label\": \"NO\"}, \"600788\": {\"hard_label\": \"NO\"}, \"600789\": {\"hard_label\": \"NO\"}, \"600790\": {\"hard_label\": \"NO\"}, \"600791\": {\"hard_label\": \"NO\"}, \"600792\": {\"hard_label\": \"NO\"}, \"600793\": {\"hard_label\": \"NO\"}, \"600794\": {\"hard_label\": \"YES\"}, \"600795\": {\"hard_label\": \"NO\"}, \"600796\": {\"hard_label\": \"NO\"}, \"600797\": {\"hard_label\": \"NO\"}, \"600798\": {\"hard_label\": \"NO\"}, \"600799\": {\"hard_label\": \"NO\"}, \"600800\": {\"hard_label\": \"YES\"}, \"600801\": {\"hard_label\": \"NO\"}, \"600802\": {\"hard_label\": \"NO\"}, \"600803\": {\"hard_label\": \"NO\"}, \"600804\": {\"hard_label\": \"NO\"}, \"600805\": {\"hard_label\": \"NO\"}, \"600806\": {\"hard_label\": \"YES\"}, \"600807\": {\"hard_label\": \"YES\"}, \"600808\": {\"hard_label\": \"NO\"}, \"600809\": {\"hard_label\": \"NO\"}, \"600810\": {\"hard_label\": \"YES\"}, \"600811\": {\"hard_label\": \"YES\"}, \"600812\": {\"hard_label\": \"NO\"}, \"600813\": {\"hard_label\": \"YES\"}, \"600814\": {\"hard_label\": \"YES\"}, \"600815\": {\"hard_label\": \"YES\"}, \"600816\": {\"hard_label\": \"NO\"}, \"600817\": {\"hard_label\": \"YES\"}, \"600818\": {\"hard_label\": \"YES\"}, \"600819\": {\"hard_label\": \"NO\"}, \"600820\": {\"hard_label\": \"YES\"}, \"600821\": {\"hard_label\": \"YES\"}, \"600822\": {\"hard_label\": \"YES\"}, \"600823\": {\"hard_label\": \"NO\"}, \"600824\": {\"hard_label\": \"YES\"}, \"600825\": {\"hard_label\": \"NO\"}, \"600826\": {\"hard_label\": \"NO\"}, \"600827\": {\"hard_label\": \"NO\"}, \"600828\": {\"hard_label\": \"NO\"}, \"600829\": {\"hard_label\": \"YES\"}, \"600830\": {\"hard_label\": \"YES\"}, \"600831\": {\"hard_label\": \"YES\"}, \"600832\": {\"hard_label\": \"YES\"}, \"600833\": {\"hard_label\": \"YES\"}, \"600834\": {\"hard_label\": \"NO\"}, \"600835\": {\"hard_label\": \"NO\"}, \"600836\": {\"hard_label\": \"NO\"}, \"600837\": {\"hard_label\": \"NO\"}, \"600838\": {\"hard_label\": \"YES\"}, \"600839\": {\"hard_label\": \"NO\"}, \"600840\": {\"hard_label\": \"YES\"}, \"600841\": {\"hard_label\": \"NO\"}, \"600842\": {\"hard_label\": \"NO\"}, \"600843\": {\"hard_label\": \"NO\"}, \"600844\": {\"hard_label\": \"NO\"}, \"600845\": {\"hard_label\": \"NO\"}, \"600846\": {\"hard_label\": \"NO\"}, \"600847\": {\"hard_label\": \"YES\"}, \"600848\": {\"hard_label\": \"YES\"}, \"600849\": {\"hard_label\": \"YES\"}, \"600850\": {\"hard_label\": \"YES\"}, \"600851\": {\"hard_label\": \"YES\"}, \"600852\": {\"hard_label\": \"YES\"}, \"600853\": {\"hard_label\": \"YES\"}, \"600854\": {\"hard_label\": \"YES\"}, \"600855\": {\"hard_label\": \"YES\"}, \"600856\": {\"hard_label\": \"YES\"}, \"600857\": {\"hard_label\": \"YES\"}, \"600858\": {\"hard_label\": \"YES\"}, \"600859\": {\"hard_label\": \"NO\"}, \"600860\": {\"hard_label\": \"NO\"}, \"600861\": {\"hard_label\": \"NO\"}, \"600862\": {\"hard_label\": \"YES\"}, \"600863\": {\"hard_label\": \"NO\"}, \"600864\": {\"hard_label\": \"NO\"}, \"600865\": {\"hard_label\": \"NO\"}, \"600866\": {\"hard_label\": \"NO\"}, \"600867\": {\"hard_label\": \"NO\"}, \"600868\": {\"hard_label\": \"NO\"}, \"600869\": {\"hard_label\": \"NO\"}, \"600870\": {\"hard_label\": \"YES\"}, \"600871\": {\"hard_label\": \"NO\"}, \"600872\": {\"hard_label\": \"YES\"}, \"600873\": {\"hard_label\": \"NO\"}, \"600874\": {\"hard_label\": \"YES\"}, \"600875\": {\"hard_label\": \"YES\"}, \"600876\": {\"hard_label\": \"YES\"}, \"600877\": {\"hard_label\": \"YES\"}, \"600878\": {\"hard_label\": \"YES\"}, \"600879\": {\"hard_label\": \"YES\"}, \"600880\": {\"hard_label\": \"YES\"}, \"600881\": {\"hard_label\": \"YES\"}, \"600882\": {\"hard_label\": \"YES\"}, \"600883\": {\"hard_label\": \"YES\"}, \"600884\": {\"hard_label\": \"YES\"}, \"600885\": {\"hard_label\": \"NO\"}, \"600886\": {\"hard_label\": \"YES\"}, \"600887\": {\"hard_label\": \"NO\"}, \"600888\": {\"hard_label\": \"YES\"}, \"600889\": {\"hard_label\": \"YES\"}, \"600890\": {\"hard_label\": \"YES\"}, \"600891\": {\"hard_label\": \"YES\"}, \"600892\": {\"hard_label\": \"YES\"}, \"600893\": {\"hard_label\": \"NO\"}, \"600894\": {\"hard_label\": \"YES\"}, \"600895\": {\"hard_label\": \"NO\"}, \"600896\": {\"hard_label\": \"YES\"}, \"600897\": {\"hard_label\": \"YES\"}, \"600898\": {\"hard_label\": \"YES\"}, \"600899\": {\"hard_label\": \"YES\"}, \"600900\": {\"hard_label\": \"YES\"}, \"600901\": {\"hard_label\": \"NO\"}, \"600902\": {\"hard_label\": \"NO\"}, \"600903\": {\"hard_label\": \"YES\"}, \"600904\": {\"hard_label\": \"YES\"}, \"600905\": {\"hard_label\": \"NO\"}, \"600906\": {\"hard_label\": \"YES\"}, \"600907\": {\"hard_label\": \"YES\"}, \"600908\": {\"hard_label\": \"YES\"}, \"600909\": {\"hard_label\": \"YES\"}, \"600910\": {\"hard_label\": \"YES\"}, \"600911\": {\"hard_label\": \"YES\"}, \"600912\": {\"hard_label\": \"YES\"}, \"600913\": {\"hard_label\": \"YES\"}, \"600914\": {\"hard_label\": \"YES\"}, \"600915\": {\"hard_label\": \"YES\"}, \"600916\": {\"hard_label\": \"YES\"}, \"600917\": {\"hard_label\": \"YES\"}, \"600918\": {\"hard_label\": \"YES\"}, \"600919\": {\"hard_label\": \"YES\"}, \"600920\": {\"hard_label\": \"YES\"}, \"600921\": {\"hard_label\": \"YES\"}, \"600922\": {\"hard_label\": \"YES\"}, \"600923\": {\"hard_label\": \"YES\"}, \"600924\": {\"hard_label\": \"YES\"}, \"600925\": {\"hard_label\": \"YES\"}, \"600926\": {\"hard_label\": \"YES\"}, \"600927\": {\"hard_label\": \"YES\"}, \"600928\": {\"hard_label\": \"YES\"}, \"600929\": {\"hard_label\": \"YES\"}, \"600930\": {\"hard_label\": \"YES\"}, \"600931\": {\"hard_label\": \"YES\"}, \"600932\": {\"hard_label\": \"YES\"}, \"600933\": {\"hard_label\": \"YES\"}, \"600934\": {\"hard_label\": \"YES\"}, \"600935\": {\"hard_label\": \"YES\"}, \"600936\": {\"hard_label\": \"YES\"}, \"600937\": {\"hard_label\": \"YES\"}, \"600938\": {\"hard_label\": \"YES\"}, \"600939\": {\"hard_label\": \"YES\"}, \"600940\": {\"hard_label\": \"YES\"}, \"600941\": {\"hard_label\": \"YES\"}, \"600942\": {\"hard_label\": \"YES\"}, \"600943\": {\"hard_label\": \"YES\"}, \"600944\": {\"hard_label\": \"YES\"}, \"600945\": {\"hard_label\": \"YES\"}, \"600946\": {\"hard_label\": \"YES\"}, \"600947\": {\"hard_label\": \"NO\"}, \"600948\": {\"hard_label\": \"NO\"}, \"600949\": {\"hard_label\": \"NO\"}, \"600950\": {\"hard_label\": \"NO\"}, \"600951\": {\"hard_label\": \"NO\"}, \"600952\": {\"hard_label\": \"NO\"}, \"600953\": {\"hard_label\": \"NO\"}, \"600954\": {\"hard_label\": \"NO\"}, \"600955\": {\"hard_label\": \"YES\"}, \"600956\": {\"hard_label\": \"YES\"}, \"600957\": {\"hard_label\": \"YES\"}, \"600958\": {\"hard_label\": \"YES\"}, \"600959\": {\"hard_label\": \"YES\"}, \"600960\": {\"hard_label\": \"NO\"}, \"600961\": {\"hard_label\": \"YES\"}, \"600962\": {\"hard_label\": \"YES\"}, \"600963\": {\"hard_label\": \"YES\"}, \"600964\": {\"hard_label\": \"YES\"}, \"600965\": {\"hard_label\": \"YES\"}, \"600966\": {\"hard_label\": \"YES\"}, \"600967\": {\"hard_label\": \"YES\"}, \"600968\": {\"hard_label\": \"YES\"}, \"600969\": {\"hard_label\": \"YES\"}, \"600970\": {\"hard_label\": \"YES\"}, \"600971\": {\"hard_label\": \"YES\"}, \"600972\": {\"hard_label\": \"NO\"}, \"600973\": {\"hard_label\": \"YES\"}, \"600974\": {\"hard_label\": \"NO\"}, \"600975\": {\"hard_label\": \"YES\"}, \"600976\": {\"hard_label\": \"YES\"}, \"600977\": {\"hard_label\": \"YES\"}, \"600978\": {\"hard_label\": \"YES\"}}'"
      ]
     },
     "execution_count": 44,
     "metadata": {},
     "output_type": "execute_result"
    }
   ],
   "source": [
    "result_json"
   ]
  }
 ],
 "metadata": {
  "kernelspec": {
   "display_name": "Python 3 (ipykernel)",
   "language": "python",
   "name": "python3"
  },
  "language_info": {
   "codemirror_mode": {
    "name": "ipython",
    "version": 3
   },
   "file_extension": ".py",
   "mimetype": "text/x-python",
   "name": "python",
   "nbconvert_exporter": "python",
   "pygments_lexer": "ipython3",
   "version": "3.9.16"
  }
 },
 "nbformat": 4,
 "nbformat_minor": 4
}
